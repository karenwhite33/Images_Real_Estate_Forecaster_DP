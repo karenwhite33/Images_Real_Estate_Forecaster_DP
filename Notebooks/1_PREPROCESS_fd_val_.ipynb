{
  "nbformat": 4,
  "nbformat_minor": 0,
  "metadata": {
    "colab": {
      "provenance": [],
      "authorship_tag": "ABX9TyO25kLJ4cXQ6ixAD88FvnIi"
    },
    "kernelspec": {
      "name": "python3",
      "display_name": "Python 3"
    },
    "language_info": {
      "name": "python"
    }
  },
  "cells": [
    {
      "cell_type": "markdown",
      "source": [
        "#**PREPROCESAMIENTO Y NORMALIZACIÓN EN VAL**"
      ],
      "metadata": {
        "id": "HrjpqixaSDWZ"
      }
    },
    {
      "cell_type": "code",
      "source": [
        "from google.colab import drive\n",
        "drive.mount('/content/drive')"
      ],
      "metadata": {
        "colab": {
          "base_uri": "https://localhost:8080/"
        },
        "id": "4r2b70_jSfUf",
        "executionInfo": {
          "status": "ok",
          "timestamp": 1737301656895,
          "user_tz": -60,
          "elapsed": 21564,
          "user": {
            "displayName": "Karen White",
            "userId": "15065601901182142883"
          }
        },
        "outputId": "168c6b8c-e627-4f1d-b721-23f57295c34c"
      },
      "execution_count": 1,
      "outputs": [
        {
          "output_type": "stream",
          "name": "stdout",
          "text": [
            "Mounted at /content/drive\n"
          ]
        }
      ]
    },
    {
      "cell_type": "code",
      "source": [
        "import pandas as pd"
      ],
      "metadata": {
        "id": "WZ8iCqCXmw9g",
        "executionInfo": {
          "status": "ok",
          "timestamp": 1737301658712,
          "user_tz": -60,
          "elapsed": 843,
          "user": {
            "displayName": "Karen White",
            "userId": "15065601901182142883"
          }
        }
      },
      "execution_count": 2,
      "outputs": []
    },
    {
      "cell_type": "code",
      "source": [
        "## Cargar datos fd_val\n",
        "fd_val = pd.read_csv(\"/content/drive/MyDrive/Deep_Learning_2024/Notebooks/data/fd_val.csv\", sep=';',)\n",
        "\n",
        "print(f\"Registros en fd_val: {len(fd_val)}\")"
      ],
      "metadata": {
        "colab": {
          "base_uri": "https://localhost:8080/"
        },
        "id": "Xoo9qq9bSX2C",
        "executionInfo": {
          "status": "ok",
          "timestamp": 1737218695614,
          "user_tz": -60,
          "elapsed": 1317,
          "user": {
            "displayName": "Karen White",
            "userId": "15065601901182142883"
          }
        },
        "outputId": "950fc8b2-acb2-494b-de5d-725e5d819796"
      },
      "execution_count": null,
      "outputs": [
        {
          "output_type": "stream",
          "name": "stdout",
          "text": [
            "Registros en fd_val: 374\n"
          ]
        }
      ]
    },
    {
      "cell_type": "code",
      "source": [
        "fd_val.shape"
      ],
      "metadata": {
        "colab": {
          "base_uri": "https://localhost:8080/"
        },
        "id": "qaM86NLITQc9",
        "executionInfo": {
          "status": "ok",
          "timestamp": 1737218701117,
          "user_tz": -60,
          "elapsed": 210,
          "user": {
            "displayName": "Karen White",
            "userId": "15065601901182142883"
          }
        },
        "outputId": "f7da6aff-e738-47cf-ca97-8c484bba3322"
      },
      "execution_count": null,
      "outputs": [
        {
          "output_type": "execute_result",
          "data": {
            "text/plain": [
              "(374, 72)"
            ]
          },
          "metadata": {},
          "execution_count": 3
        }
      ]
    },
    {
      "cell_type": "markdown",
      "source": [
        "##Normalización y redimensionado de datos numéricos y categóricos DATOS TABULARES fd_val basado en TRAIN"
      ],
      "metadata": {
        "id": "jpDKuhsyTrRC"
      }
    },
    {
      "cell_type": "code",
      "source": [
        "#\n",
        "\n",
        "# Definir las columnas que no aportan información relevante\n",
        "not_useful_columns = [\n",
        "    'first_review', 'last_review', 'calculated_host_listings_count_entire_homes',\n",
        "    'calculated_host_listings_count_private_rooms', 'calculated_host_listings_count_shared_rooms',\n",
        "    'calculated_host_listings_count', 'license', 'calendar_last_scraped',\n",
        "    'has_availability', 'availability_30', 'availability_60', 'availability_90',\n",
        "    'maximum_minimum_nights', 'minimum_maximum_nights', 'maximum_maximum_nights',\n",
        "    'minimum_nights_avg_ntm', 'maximum_nights_avg_ntm', 'minimum_minimum_nights', 'host_listings_count',\n",
        "    'host_neighbourhood', 'host_picture_url', 'host_about', 'host_location',\n",
        "    'host_thumbnail_url', 'host_name', 'host_url', 'host_id', 'source',\n",
        "    'last_scraped', 'scrape_id', 'neighbourhood_group_cleansed', 'calendar_updated'\n",
        "]\n",
        "\n",
        "# Hacemos un drop de todas las columnas que no aportan información relevante a precio o inmueble en fd_val\n",
        "fd_val.drop(not_useful_columns, axis=1, inplace=True)\n",
        "\n",
        "fd_val.shape"
      ],
      "metadata": {
        "colab": {
          "base_uri": "https://localhost:8080/"
        },
        "id": "jQy69In0TVYd",
        "executionInfo": {
          "status": "ok",
          "timestamp": 1737218721459,
          "user_tz": -60,
          "elapsed": 181,
          "user": {
            "displayName": "Karen White",
            "userId": "15065601901182142883"
          }
        },
        "outputId": "e820057c-528e-41a3-ff68-09c46bb688a5"
      },
      "execution_count": null,
      "outputs": [
        {
          "output_type": "execute_result",
          "data": {
            "text/plain": [
              "(374, 40)"
            ]
          },
          "metadata": {},
          "execution_count": 4
        }
      ]
    },
    {
      "cell_type": "markdown",
      "source": [
        "##nulls en review_scores_* y reviews_per_month"
      ],
      "metadata": {
        "id": "PI5LJzK0UDFY"
      }
    },
    {
      "cell_type": "code",
      "source": [
        "import pandas as pd\n",
        "import joblib\n",
        "\n",
        "# Definir las columnas a imputar\n",
        "review_columns = ['review_scores_rating', 'review_scores_accuracy', 'review_scores_cleanliness',\n",
        "                  'review_scores_checkin', 'review_scores_communication', 'review_scores_location',\n",
        "                  'review_scores_value', 'reviews_per_month']\n",
        "\n",
        "# Cargar las medianas previamente guardadas del archivo\n",
        "medianas_reviews = joblib.load('/content/drive/MyDrive/Deep_Learning_2024/Notebooks/data/pkl/medianas_reviews.pkl')\n",
        "\n",
        "# Imputar valores nulos en el conjunto de validación con las medianas\n",
        "for column in review_columns:\n",
        "    fd_val[column] = fd_val[column].fillna(medianas_reviews[column])\n",
        "\n",
        "# Imprimir el número de nulos restantes después de la imputación\n",
        "print(\"Número de nulos restantes después de la imputación en val:\")\n",
        "print(fd_val[review_columns].isnull().sum())\n"
      ],
      "metadata": {
        "colab": {
          "base_uri": "https://localhost:8080/"
        },
        "id": "VteHeiXqT2P-",
        "executionInfo": {
          "status": "ok",
          "timestamp": 1737218755469,
          "user_tz": -60,
          "elapsed": 737,
          "user": {
            "displayName": "Karen White",
            "userId": "15065601901182142883"
          }
        },
        "outputId": "12616595-83d5-43c3-eed0-e865310f4970"
      },
      "execution_count": null,
      "outputs": [
        {
          "output_type": "stream",
          "name": "stdout",
          "text": [
            "Número de nulos restantes después de la imputación en val:\n",
            "review_scores_rating           0\n",
            "review_scores_accuracy         0\n",
            "review_scores_cleanliness      0\n",
            "review_scores_checkin          0\n",
            "review_scores_communication    0\n",
            "review_scores_location         0\n",
            "review_scores_value            0\n",
            "reviews_per_month              0\n",
            "dtype: int64\n"
          ]
        }
      ]
    },
    {
      "cell_type": "markdown",
      "source": [
        "##Imputacion 'bathrooms' y 'bathrooms_text'"
      ],
      "metadata": {
        "id": "XhtORjwSUYAm"
      }
    },
    {
      "cell_type": "code",
      "source": [
        "import re\n",
        "import joblib\n",
        "\n",
        "# Cargar la información de imputación guardada en train\n",
        "bathrooms_info = joblib.load('/content/drive/MyDrive/Deep_Learning_2024/Notebooks/data/pkl/bathrooms_info.pkl')\n",
        "bathrooms_median = bathrooms_info['bathrooms_median']\n",
        "porcentaje_bathrooms_shared = bathrooms_info['porcentaje_bathrooms_shared']\n",
        "\n",
        "# Función para imputar 'bathrooms' en val\n",
        "def extract_bathrooms_val(text):\n",
        "    if pd.isnull(text):\n",
        "        return None\n",
        "    text = str(text).lower()\n",
        "    if \"half\" in text:  # Manejar específicamente \"Half-bath\"\n",
        "        return 0.5\n",
        "    match = re.search(r'(\\d+(\\.\\d+)?)', text)  # Buscar números con decimales\n",
        "    return float(match.group(1)) if match else None\n",
        "\n",
        "# Crear columna 'bathrooms_shared' para val\n",
        "fd_val['bathrooms_shared'] = fd_val['bathrooms_text'].apply(\n",
        "    lambda x: 1 if 'shared' in str(x).lower() else 0\n",
        ")\n",
        "\n",
        "# Imputar bathrooms usando bathrooms_text\n",
        "fd_val['bathrooms'] = fd_val['bathrooms'].combine_first(\n",
        "    fd_val['bathrooms_text'].apply(extract_bathrooms_val)\n",
        ")\n",
        "\n",
        "# Imputar valores restantes con la mediana calculada en train\n",
        "fd_val['bathrooms'].fillna(bathrooms_median, inplace=True)\n",
        "\n",
        "# Imputar bathrooms_shared restantes con el porcentaje calculado en train\n",
        "fd_val['bathrooms_shared'].fillna(round(porcentaje_bathrooms_shared), inplace=True)\n",
        "\n",
        "# Verificar si 'bathrooms_text' puede eliminarse\n",
        "if fd_val['bathrooms'].isnull().sum() == 0 and fd_val['bathrooms_shared'].isnull().sum() == 0:\n",
        "    fd_val.drop(columns=['bathrooms_text'], inplace=True)\n",
        "    print(\"'bathrooms_text' ha sido eliminada porque ya no hay nulos en 'bathrooms' y 'bathrooms_shared'.\")\n",
        "else:\n",
        "    print(\"'bathrooms_text' no ha sido eliminada porque aún hay nulos en 'bathrooms' o 'bathrooms_shared'.\")\n",
        "\n",
        "# Imprimir resumen de imputación\n",
        "print(\"Nulos en 'bathrooms' después de la imputación:\", fd_val['bathrooms'].isnull().sum())\n",
        "print(\"Nulos en 'bathrooms_shared':\", fd_val['bathrooms_shared'].isnull().sum())\n"
      ],
      "metadata": {
        "colab": {
          "base_uri": "https://localhost:8080/"
        },
        "id": "7IcDqqITUV61",
        "executionInfo": {
          "status": "ok",
          "timestamp": 1737218882600,
          "user_tz": -60,
          "elapsed": 360,
          "user": {
            "displayName": "Karen White",
            "userId": "15065601901182142883"
          }
        },
        "outputId": "6cc1a2b7-25fe-4cb4-9226-c1207d31f3d2"
      },
      "execution_count": null,
      "outputs": [
        {
          "output_type": "stream",
          "name": "stdout",
          "text": [
            "'bathrooms_text' ha sido eliminada porque ya no hay nulos en 'bathrooms' y 'bathrooms_shared'.\n",
            "Nulos en 'bathrooms' después de la imputación: 0\n",
            "Nulos en 'bathrooms_shared': 0\n"
          ]
        },
        {
          "output_type": "stream",
          "name": "stderr",
          "text": [
            "<ipython-input-6-eac57177525d>:30: FutureWarning: A value is trying to be set on a copy of a DataFrame or Series through chained assignment using an inplace method.\n",
            "The behavior will change in pandas 3.0. This inplace method will never work because the intermediate object on which we are setting values always behaves as a copy.\n",
            "\n",
            "For example, when doing 'df[col].method(value, inplace=True)', try using 'df.method({col: value}, inplace=True)' or df[col] = df[col].method(value) instead, to perform the operation inplace on the original object.\n",
            "\n",
            "\n",
            "  fd_val['bathrooms'].fillna(bathrooms_median, inplace=True)\n",
            "<ipython-input-6-eac57177525d>:33: FutureWarning: A value is trying to be set on a copy of a DataFrame or Series through chained assignment using an inplace method.\n",
            "The behavior will change in pandas 3.0. This inplace method will never work because the intermediate object on which we are setting values always behaves as a copy.\n",
            "\n",
            "For example, when doing 'df[col].method(value, inplace=True)', try using 'df.method({col: value}, inplace=True)' or df[col] = df[col].method(value) instead, to perform the operation inplace on the original object.\n",
            "\n",
            "\n",
            "  fd_val['bathrooms_shared'].fillna(round(porcentaje_bathrooms_shared), inplace=True)\n"
          ]
        }
      ]
    },
    {
      "cell_type": "markdown",
      "source": [
        "# Imputar 'beds'"
      ],
      "metadata": {
        "id": "n64hOBxaU0OA"
      }
    },
    {
      "cell_type": "code",
      "source": [
        "import pandas as pd\n",
        "import joblib\n",
        "\n",
        "# Definir las columnas a imputar\n",
        "group_columns = ['property_type', 'room_type', 'accommodates', 'bathrooms', 'bathrooms_shared']\n",
        "\n",
        "# Cargar las medianas previamente guardadas del archivo\n",
        "median_beds_grouped = joblib.load('/content/drive/MyDrive/Deep_Learning_2024/Notebooks/data/pkl/median_beds_grouped.pkl')\n",
        "mediana_global_beds = joblib.load('/content/drive/MyDrive/Deep_Learning_2024/Notebooks/data/pkl/mediana_global_beds.pkl')\n",
        "\n",
        "# Imputar valores nulos en el conjunto de validación con las medianas calculadas por grupo\n",
        "fd_val = fd_val.merge(median_beds_grouped, on=group_columns, how='left')\n",
        "fd_val['beds'] = fd_val['beds'].fillna(fd_val['beds_median_grouped'])\n",
        "\n",
        "# Imputar cualquier valor restante con la mediana global de 'beds'\n",
        "fd_val['beds'] = fd_val['beds'].fillna(mediana_global_beds)\n",
        "\n",
        "# Eliminar la columna temporal 'beds_median_grouped' después de la imputación\n",
        "fd_val.drop(columns=['beds_median_grouped'], inplace=True)\n",
        "\n",
        "# Imprimir el número de nulos restantes después de la imputación\n",
        "print(\"Nulos restantes en 'beds' después de la imputación en val:\", fd_val['beds'].isnull().sum())"
      ],
      "metadata": {
        "colab": {
          "base_uri": "https://localhost:8080/"
        },
        "id": "4r1z7FlvU0es",
        "executionInfo": {
          "status": "ok",
          "timestamp": 1737218915522,
          "user_tz": -60,
          "elapsed": 932,
          "user": {
            "displayName": "Karen White",
            "userId": "15065601901182142883"
          }
        },
        "outputId": "42edb4cc-415b-47fb-ff5c-dd254251032b"
      },
      "execution_count": null,
      "outputs": [
        {
          "output_type": "stream",
          "name": "stdout",
          "text": [
            "Nulos restantes en 'beds' después de la imputación en val: 0\n"
          ]
        }
      ]
    },
    {
      "cell_type": "markdown",
      "source": [
        "# Imputar 'bedrooms'\n"
      ],
      "metadata": {
        "id": "-npQiZBbVEEZ"
      }
    },
    {
      "cell_type": "code",
      "source": [
        "import numpy as np\n",
        "import pandas as pd\n",
        "from difflib import get_close_matches\n",
        "\n",
        "# Definir los valores conocidos de 'room_type'\n",
        "known_room_types = [\"Entire home/apt\", \"Private room\", \"Hotel room\", \"Shared room\"]\n",
        "\n",
        "# Función de imputación de 'bedrooms' basada en reglas mejoradas (misma que en train)\n",
        "def imputar_bedrooms(df):\n",
        "    for index, row in df.iterrows():\n",
        "        room_type = row['room_type']\n",
        "\n",
        "        # Normalizar valor: Convertir a minúsculas para evitar problemas de mayúsculas/minúsculas\n",
        "        room_type_normalized = room_type.lower() if pd.notnull(room_type) else None\n",
        "\n",
        "        # Intentar encontrar coincidencias aproximadas con los valores conocidos\n",
        "        match = get_close_matches(room_type_normalized, [rt.lower() for rt in known_room_types], n=1, cutoff=0.8)\n",
        "\n",
        "        # Si encontramos una coincidencia, utilizamos el valor conocido\n",
        "        if match:\n",
        "            room_type_final = match[0].capitalize()\n",
        "        else:\n",
        "            # Si no hay coincidencias, intentamos hacer una clasificación basada en accommodates\n",
        "            accommodates = row['accommodates']\n",
        "            if pd.notnull(accommodates):\n",
        "                if accommodates <= 2:\n",
        "                    room_type_final = \"Private room\"  # Suposición razonable si solo tiene capacidad para 2\n",
        "                elif accommodates >= 3 and accommodates <= 6:\n",
        "                    room_type_final = \"Entire home/apt\"  # Suposición razonable para acomodar 3 a 6 personas\n",
        "                else:\n",
        "                    room_type_final = \"Entire home/apt\"  # Suposición razonable para más de 6 personas\n",
        "            else:\n",
        "                # Si no podemos hacer una clasificación basada en accommodates, asignamos un valor por defecto\n",
        "                room_type_final = \"Unknown\"\n",
        "\n",
        "        # Aplicar reglas para imputar 'bedrooms'\n",
        "        if room_type_final == \"Entire home/apt\":\n",
        "            # Reglas para 'Entire home/apt'\n",
        "            if row['accommodates'] <= 2:\n",
        "                df.at[index, 'bedrooms'] = 1\n",
        "            elif 3 <= row['accommodates'] <= 4:\n",
        "                df.at[index, 'bedrooms'] = 2\n",
        "            elif 5 <= row['accommodates'] <= 6:\n",
        "                df.at[index, 'bedrooms'] = 3\n",
        "            else:\n",
        "                df.at[index, 'bedrooms'] = np.ceil(row['accommodates'] / 2)\n",
        "\n",
        "        elif room_type_final == \"Private room\":\n",
        "            # Regla para 'Private room'\n",
        "            df.at[index, 'bedrooms'] = 1\n",
        "\n",
        "        elif room_type_final in [\"Hotel room\", \"Shared room\"]:\n",
        "            # Regla para 'Hotel room' y 'Shared room'\n",
        "            df.at[index, 'bedrooms'] = 1\n",
        "\n",
        "        elif room_type_final == \"Unknown\":\n",
        "            # Valor predeterminado para un 'room_type' desconocido, basándose en el número de accommodates\n",
        "            df.at[index, 'bedrooms'] = np.ceil(row['accommodates'] / 2) if pd.notnull(row['accommodates']) else 1\n",
        "\n",
        "    return df\n",
        "\n",
        "# Aplicar la función a fd_val\n",
        "fd_val = imputar_bedrooms(fd_val)\n",
        "\n",
        "# Verificar nulos restantes en 'bedrooms' después de la imputación en val\n",
        "print(\"Nulos restantes en 'bedrooms' después de la imputación en fd_val:\", fd_val['bedrooms'].isnull().sum())"
      ],
      "metadata": {
        "colab": {
          "base_uri": "https://localhost:8080/"
        },
        "id": "bL7mnoKnVFbl",
        "executionInfo": {
          "status": "ok",
          "timestamp": 1737218931343,
          "user_tz": -60,
          "elapsed": 167,
          "user": {
            "displayName": "Karen White",
            "userId": "15065601901182142883"
          }
        },
        "outputId": "2cc9ab8a-f652-43a9-e75e-8d24cc77f624"
      },
      "execution_count": null,
      "outputs": [
        {
          "output_type": "stream",
          "name": "stdout",
          "text": [
            "Nulos restantes en 'bedrooms' después de la imputación en fd_val: 0\n"
          ]
        }
      ]
    },
    {
      "cell_type": "code",
      "source": [
        "# Identificar columnas que contienen la palabra 'host' en su nombre\n",
        "host_columns = [col for col in fd_val.columns if 'host' in col]\n",
        "\n",
        "# Mostrar valores nulos en estas columnas\n",
        "null_counts = fd_val[host_columns].isnull().sum()\n",
        "\n",
        "print(\"Valores nulos en las columnas que contienen 'host':\")\n",
        "print(null_counts)\n"
      ],
      "metadata": {
        "colab": {
          "base_uri": "https://localhost:8080/"
        },
        "id": "sHYrbmOpa7vh",
        "executionInfo": {
          "status": "ok",
          "timestamp": 1737218938733,
          "user_tz": -60,
          "elapsed": 190,
          "user": {
            "displayName": "Karen White",
            "userId": "15065601901182142883"
          }
        },
        "outputId": "63eec5d3-1ece-463b-bb75-e7212830f128"
      },
      "execution_count": null,
      "outputs": [
        {
          "output_type": "stream",
          "name": "stdout",
          "text": [
            "Valores nulos en las columnas que contienen 'host':\n",
            "host_since                    0\n",
            "host_response_time           34\n",
            "host_response_rate           34\n",
            "host_acceptance_rate         30\n",
            "host_is_superhost             3\n",
            "host_total_listings_count     0\n",
            "host_verifications            0\n",
            "host_has_profile_pic          0\n",
            "host_identity_verified        0\n",
            "dtype: int64\n"
          ]
        }
      ]
    },
    {
      "cell_type": "markdown",
      "source": [
        "###Imputacion de NULLS columnas catégoricas:\n",
        "Imputar columnas host_"
      ],
      "metadata": {
        "id": "jnlVZQtoVsbl"
      }
    },
    {
      "cell_type": "code",
      "source": [
        "import joblib\n",
        "import numpy as np\n",
        "import pandas as pd\n",
        "\n",
        "# Cargar la información guardada de train\n",
        "host_info = joblib.load('/content/drive/MyDrive/Deep_Learning_2024/Notebooks/data/pkl/host_info.pkl')\n",
        "mean_host_response_rate = host_info['mean_host_response_rate']\n",
        "mean_host_acceptance_rate = host_info['mean_host_acceptance_rate']\n",
        "mode_host_is_superhost = host_info['mode_host_is_superhost']\n",
        "\n",
        "# Imputar 'host_is_superhost' con el valor más frecuente (moda) en el dataset\n",
        "fd_val['host_is_superhost'] = fd_val['host_is_superhost'].fillna(mode_host_is_superhost)\n",
        "\n",
        "# Convertir 'host_response_rate' y 'host_acceptance_rate' de texto a valores numéricos quitando el % y dividiendo el número por 100\n",
        "if fd_val['host_response_rate'].dtype == 'O':\n",
        "    fd_val['host_response_rate'] = fd_val['host_response_rate'].str.rstrip('%').astype(float) / 100\n",
        "if fd_val['host_acceptance_rate'].dtype == 'O':\n",
        "    fd_val['host_acceptance_rate'] = fd_val['host_acceptance_rate'].str.rstrip('%').astype(float) / 100\n",
        "\n",
        "# Imputar 'host_response_rate' y 'host_acceptance_rate' basado en la media dentro de los grupos de 'host_is_superhost'\n",
        "fd_val['host_response_rate'] = fd_val.apply(\n",
        "    lambda row: mean_host_response_rate.get(row['host_is_superhost'], np.nan) if pd.isnull(row['host_response_rate']) else row['host_response_rate'], axis=1)\n",
        "fd_val['host_acceptance_rate'] = fd_val.apply(\n",
        "    lambda row: mean_host_acceptance_rate.get(row['host_is_superhost'], np.nan) if pd.isnull(row['host_acceptance_rate']) else row['host_acceptance_rate'], axis=1)\n",
        "\n",
        "# Imputar 'host_response_time' basado en reglas condicionales en función de 'host_is_superhost' y 'host_response_rate'\n",
        "def imputar_host_response_time(row):\n",
        "    if pd.isnull(row['host_response_time']):\n",
        "        if row['host_is_superhost'] == 't' or (row['host_response_rate'] is not None and row['host_response_rate'] >= 0.9):\n",
        "            return 'within an hour'\n",
        "        elif row['host_response_rate'] is not None and 0.5 <= row['host_response_rate'] < 0.9:\n",
        "            return 'within a day'\n",
        "        else:\n",
        "            return 'a few days or more'\n",
        "    return row['host_response_time']\n",
        "\n",
        "# Aplicar la imputación condicional a 'host_response_time'\n",
        "fd_val['host_response_time'] = fd_val.apply(imputar_host_response_time, axis=1)\n",
        "\n",
        "# Verificar nulos restantes en las columnas host_*\n",
        "print(\"Nulos restantes en host_response_time (val):\", fd_val['host_response_time'].isnull().sum())\n",
        "print(\"Nulos restantes en host_response_rate (val):\", fd_val['host_response_rate'].isnull().sum())\n",
        "print(\"Nulos restantes en host_acceptance_rate (val):\", fd_val['host_acceptance_rate'].isnull().sum())\n",
        "print(\"Nulos restantes en host_is_superhost (val):\", fd_val['host_is_superhost'].isnull().sum())\n"
      ],
      "metadata": {
        "colab": {
          "base_uri": "https://localhost:8080/"
        },
        "id": "Y3QxxjjRVdyL",
        "executionInfo": {
          "status": "ok",
          "timestamp": 1737218964611,
          "user_tz": -60,
          "elapsed": 516,
          "user": {
            "displayName": "Karen White",
            "userId": "15065601901182142883"
          }
        },
        "outputId": "2fca1666-dae1-4086-ad97-98c708c4f1db"
      },
      "execution_count": null,
      "outputs": [
        {
          "output_type": "stream",
          "name": "stdout",
          "text": [
            "Nulos restantes en host_response_time (val): 0\n",
            "Nulos restantes en host_response_rate (val): 0\n",
            "Nulos restantes en host_acceptance_rate (val): 0\n",
            "Nulos restantes en host_is_superhost (val): 0\n"
          ]
        }
      ]
    },
    {
      "cell_type": "markdown",
      "source": [
        "##NULLS 'neighbourhood', primero CODIFICACIÓN"
      ],
      "metadata": {
        "id": "kZ9pBodEiZGx"
      }
    },
    {
      "cell_type": "code",
      "source": [
        "# Verificar las categorías únicas en 'neighbourhood_cleansed'\n",
        "unique_neighbourhood_cleansed = fd_val['neighbourhood_cleansed'].unique()\n",
        "print(unique_neighbourhood_cleansed)\n",
        "print(f'Número total de categorías únicas en neighbourhood_cleansed: {len(unique_neighbourhood_cleansed)}')"
      ],
      "metadata": {
        "colab": {
          "base_uri": "https://localhost:8080/"
        },
        "id": "kEFQjxTci90W",
        "executionInfo": {
          "status": "ok",
          "timestamp": 1737218971236,
          "user_tz": -60,
          "elapsed": 164,
          "user": {
            "displayName": "Karen White",
            "userId": "15065601901182142883"
          }
        },
        "outputId": "e90a6e24-5f4a-4a99-a1fa-0e51ecf50f35"
      },
      "execution_count": null,
      "outputs": [
        {
          "output_type": "stream",
          "name": "stdout",
          "text": [
            "['Dorchester' 'North End' 'Roxbury' 'Brighton' 'Beacon Hill' 'South End'\n",
            " 'Allston' 'Downtown' 'Jamaica Plain' 'Fenway' 'Back Bay' 'South Boston'\n",
            " 'Roslindale' 'Charlestown' 'Hyde Park' 'East Boston' 'Mission Hill'\n",
            " 'Bay Village' 'West Roxbury' 'South Boston Waterfront'\n",
            " 'Longwood Medical Area' 'Mattapan' 'West End']\n",
            "Número total de categorías únicas en neighbourhood_cleansed: 23\n"
          ]
        }
      ]
    },
    {
      "cell_type": "code",
      "source": [
        "import numpy as np\n",
        "import pandas as pd\n",
        "import joblib\n",
        "from sklearn.preprocessing import LabelEncoder\n",
        "\n",
        "# Cargar el LabelEncoder y los centroides previamente guardados\n",
        "le_combined = joblib.load(\"/content/drive/MyDrive/Deep_Learning_2024/Notebooks/data/pkl/label_encoder_combined.pkl\")\n",
        "centroides = joblib.load(\"/content/drive/MyDrive/Deep_Learning_2024/Notebooks/data/pkl/centroides_neighbourhood.pkl\")\n",
        "\n",
        "\n",
        "# Definición de la función haversine\n",
        "def haversine(lat1, lon1, lat2, lon2):\n",
        "    R = 6371  # Radio de la Tierra en kilómetros\n",
        "    phi1 = np.radians(lat1)\n",
        "    phi2 = np.radians(lat2)\n",
        "    delta_phi = np.radians(lat2 - lat1)\n",
        "    delta_lambda = np.radians(lon2 - lon1)\n",
        "    a = np.sin(delta_phi / 2) ** 2 + np.cos(phi1) * np.cos(phi2) * np.sin(delta_lambda / 2) ** 2\n",
        "    return R * (2 * np.arctan2(np.sqrt(a), np.sqrt(1 - a)))\n",
        "\n",
        "# Limpieza y estandarización de las columnas 'neighbourhood' y 'neighbourhood_cleansed' en validación\n",
        "fd_val['neighbourhood'] = fd_val['neighbourhood'].str.strip()\n",
        "fd_val['neighbourhood'] = fd_val['neighbourhood'].str.replace(r\"\\s+\", \" \", regex=True)\n",
        "fd_val['neighbourhood'] = fd_val['neighbourhood'].str.replace(r\", ,\", \",\", regex=True)\n",
        "fd_val['neighbourhood'] = fd_val['neighbourhood'].str.replace(r\"Dorchster\", \"Dorchester\", regex=False)\n",
        "fd_val['neighbourhood'] = fd_val['neighbourhood'].str.replace(r\"\\s+,\", \",\", regex=True)\n",
        "fd_val['neighbourhood'] = fd_val['neighbourhood'].str.replace(r\"\\(.*\\)\", \"\", regex=True).str.strip()\n",
        "fd_val['neighbourhood'] = fd_val['neighbourhood'].str.replace(r\", Massachusetts, United States\", \"\", regex=False)\n",
        "fd_val['neighbourhood'] = fd_val['neighbourhood'].str.strip()\n",
        "fd_val['neighbourhood'] = fd_val['neighbourhood'].str.replace(r\"Jamaica Plain, Boston\", \"Jamaica Plain\", regex=False)\n",
        "\n",
        "fd_val['neighbourhood_cleansed'] = fd_val['neighbourhood_cleansed'].str.strip()\n",
        "fd_val['neighbourhood_cleansed'] = fd_val['neighbourhood_cleansed'].str.replace(r\"\\s+\", \" \", regex=True)\n",
        "fd_val['neighbourhood_cleansed'] = fd_val['neighbourhood_cleansed'].str.replace(r\", ,\", \",\", regex=True)\n",
        "fd_val['neighbourhood_cleansed'] = fd_val['neighbourhood_cleansed'].str.replace(r\"Dorchster\", \"Dorchester\", regex=False)\n",
        "fd_val['neighbourhood_cleansed'] = fd_val['neighbourhood_cleansed'].str.replace(r\"\\s+,\", \",\", regex=True)\n",
        "fd_val['neighbourhood_cleansed'] = fd_val['neighbourhood_cleansed'].str.replace(r\"\\(.*\\)\", \"\", regex=True).str.strip()\n",
        "fd_val['neighbourhood_cleansed'] = fd_val['neighbourhood_cleansed'].str.replace(r\", Massachusetts, United States\", \"\", regex=False)\n",
        "fd_val['neighbourhood_cleansed'] = fd_val['neighbourhood_cleansed'].str.strip()\n",
        "\n",
        "# Manejar valores desconocidos para 'neighbourhood' usando los centroides\n",
        "def imputar_barrio_mas_cercano(row, centroides):\n",
        "    if row['neighbourhood'] not in le_combined.classes_:\n",
        "        # Calcular distancias geográficas a los centroides y asignar el barrio más cercano\n",
        "        distancias = centroides.apply(lambda x: haversine(row['latitude'], row['longitude'], x['latitude'], x['longitude']), axis=1)\n",
        "        barrio_mas_cercano = distancias.idxmin()\n",
        "        return barrio_mas_cercano\n",
        "    return row['neighbourhood']\n",
        "\n",
        "# Aplicar la imputación para barrios desconocidos\n",
        "fd_val['neighbourhood'] = fd_val.apply(imputar_barrio_mas_cercano, axis=1, args=(centroides,))\n",
        "\n",
        "# Codificar las columnas utilizando el LabelEncoder\n",
        "fd_val['neighbourhood'] = fd_val['neighbourhood'].apply(\n",
        "    lambda x: le_combined.transform([x])[0] if x in le_combined.classes_ else le_combined.transform([\"<UNK>\"])[0]\n",
        ")\n",
        "fd_val['neighbourhood_cleansed'] = fd_val['neighbourhood_cleansed'].apply(\n",
        "    lambda x: le_combined.transform([x])[0] if x in le_combined.classes_ else le_combined.transform([\"<UNK>\"])[0]\n",
        ")\n",
        "\n",
        "print(\"Valores únicos resultantes de 'neighbourhood' y 'neighbourhood_cleansed' en validación:\",\n",
        "      pd.concat([fd_val['neighbourhood'], fd_val['neighbourhood_cleansed']]).unique())\n"
      ],
      "metadata": {
        "colab": {
          "base_uri": "https://localhost:8080/"
        },
        "id": "XrQy887aiVYa",
        "executionInfo": {
          "status": "ok",
          "timestamp": 1737218991516,
          "user_tz": -60,
          "elapsed": 3248,
          "user": {
            "displayName": "Karen White",
            "userId": "15065601901182142883"
          }
        },
        "outputId": "b02d464d-7c6e-4238-c3f3-f275bb5500fe"
      },
      "execution_count": null,
      "outputs": [
        {
          "output_type": "stream",
          "name": "stdout",
          "text": [
            "Valores únicos resultantes de 'neighbourhood' y 'neighbourhood_cleansed' en validación: [12  5  8  9 17 25 16 11 23  6 30  7 22 24  4 28  1 13 15  2 26 14 21  3\n",
            " 27 19 20 29]\n"
          ]
        }
      ]
    },
    {
      "cell_type": "markdown",
      "source": [
        "##Imputación 'neighbourhood'"
      ],
      "metadata": {
        "id": "pnJe_G7krQqy"
      }
    },
    {
      "cell_type": "code",
      "source": [
        "from sklearn.impute import KNNImputer\n",
        "\n",
        "import joblib\n",
        "\n",
        "# Cargar el imputador KNN previamente ajustado en el conjunto de entrenamiento\n",
        "imputer = joblib.load(\"/content/drive/MyDrive/Deep_Learning_2024/Notebooks/data/pkl/knn_imputer_trained.pkl\")\n",
        "\n",
        "# Definir las columnas que se utilizarán para la imputación\n",
        "columns_for_imputation = ['latitude', 'longitude', 'neighbourhood', 'neighbourhood_cleansed']\n",
        "\n",
        "# Aplicar el imputador al conjunto de validación\n",
        "fd_val_imputed = imputer.transform(fd_val[columns_for_imputation])\n",
        "\n",
        "# Actualizar el DataFrame con los valores imputados en 'neighbourhood'\n",
        "fd_val['neighbourhood'] = fd_val_imputed[:, 2]\n",
        "\n",
        "# Guardar el dataset de validación imputado si es necesario\n",
        "fd_val.to_csv('/content/drive/MyDrive/Deep_Learning_2024/Notebooks/data/fd_val_imputed.csv', sep=';', index=False)"
      ],
      "metadata": {
        "id": "1fspUUMMqvsm"
      },
      "execution_count": null,
      "outputs": []
    },
    {
      "cell_type": "code",
      "source": [
        "# Identificar columnas categóricas con valores nulos\n",
        "categorical_columns = fd_val.select_dtypes(include=['object']).columns\n",
        "categorical_null_columns = categorical_columns[fd_val[categorical_columns].isnull().any()]\n",
        "\n",
        "# Contar los valores nulos en cada una de las columnas categóricas con nulos\n",
        "categorical_null_counts = fd_val[categorical_null_columns].isnull().sum()\n",
        "print(categorical_null_counts)\n"
      ],
      "metadata": {
        "colab": {
          "base_uri": "https://localhost:8080/"
        },
        "id": "UCZaQxDYsNs5",
        "executionInfo": {
          "status": "ok",
          "timestamp": 1737219026104,
          "user_tz": -60,
          "elapsed": 277,
          "user": {
            "displayName": "Karen White",
            "userId": "15065601901182142883"
          }
        },
        "outputId": "19acae59-d6a8-4530-f2ca-2604074fedc4"
      },
      "execution_count": null,
      "outputs": [
        {
          "output_type": "stream",
          "name": "stdout",
          "text": [
            "Series([], dtype: float64)\n"
          ]
        }
      ]
    },
    {
      "cell_type": "markdown",
      "source": [
        "##Ya no tenemos NULLS ahora convertiremos las categoricas a numericas restantes:"
      ],
      "metadata": {
        "id": "iGmHfitnsdxK"
      }
    },
    {
      "cell_type": "code",
      "source": [
        "#cargar dataset fd_val_imputed\n",
        "fd_val_imputed = pd.read_csv(\"/content/drive/MyDrive/Deep_Learning_2024/Notebooks/data/fd_val_imputed.csv\", sep=';')"
      ],
      "metadata": {
        "id": "GLgvTAM5rqFa"
      },
      "execution_count": null,
      "outputs": []
    },
    {
      "cell_type": "markdown",
      "source": [
        "##Comenzaré con las categorias host_"
      ],
      "metadata": {
        "id": "851YRT26sk5f"
      }
    },
    {
      "cell_type": "code",
      "source": [
        "# Convertir la columna 'host_since' a datetime para crear la columna 'years_being_host' que indicaria la antiguedad del host\n",
        "from datetime import datetime\n",
        "\n",
        "fd_val_imputed['host_since'] = fd_val_imputed['host_since'].apply(lambda x: datetime.strptime(str(x), '%Y-%m-%d'))\n",
        "fd_val_imputed['years_being_host'] = fd_val_imputed['host_since'].apply(lambda x: datetime.now().year - x.year)\n",
        "\n",
        "fd_val_imputed.drop(['host_since'], axis=1, inplace=True)\n",
        "\n",
        "print(fd_val_imputed['years_being_host'].dtype)"
      ],
      "metadata": {
        "colab": {
          "base_uri": "https://localhost:8080/"
        },
        "id": "_zK226sbslqK",
        "executionInfo": {
          "status": "ok",
          "timestamp": 1737219042595,
          "user_tz": -60,
          "elapsed": 189,
          "user": {
            "displayName": "Karen White",
            "userId": "15065601901182142883"
          }
        },
        "outputId": "143bad18-9a1c-4357-eee2-0b763db94874"
      },
      "execution_count": null,
      "outputs": [
        {
          "output_type": "stream",
          "name": "stdout",
          "text": [
            "int64\n"
          ]
        }
      ]
    },
    {
      "cell_type": "markdown",
      "source": [
        "##'host_response_time' valores unicos"
      ],
      "metadata": {
        "id": "_aSc26FAtiBu"
      }
    },
    {
      "cell_type": "code",
      "source": [
        "# Mapping para convertir los valores de 'host_response_time' en valores numéricos relevancia\n",
        "response_time_mapping = {\n",
        "    'within an hour': 4,\n",
        "    'within a few hours': 3,\n",
        "    'within a day': 2,\n",
        "    'a few days or more': 1\n",
        "}\n",
        "\n",
        "# Aplicar la transformación a la columna 'host_response_time'\n",
        "fd_val_imputed['host_response_time'] = fd_val_imputed['host_response_time'].map(response_time_mapping)\n",
        "\n",
        "# Verificar los valores únicos después de la transformación\n",
        "print(fd_val_imputed['host_response_time'].unique())"
      ],
      "metadata": {
        "colab": {
          "base_uri": "https://localhost:8080/"
        },
        "id": "YOkLInTrtEVD",
        "executionInfo": {
          "status": "ok",
          "timestamp": 1737219053241,
          "user_tz": -60,
          "elapsed": 166,
          "user": {
            "displayName": "Karen White",
            "userId": "15065601901182142883"
          }
        },
        "outputId": "9cc104e9-fc11-4d31-afea-cb48903d6ac6"
      },
      "execution_count": null,
      "outputs": [
        {
          "output_type": "stream",
          "name": "stdout",
          "text": [
            "[3 4 2 1]\n"
          ]
        }
      ]
    },
    {
      "cell_type": "markdown",
      "source": [
        "##'host_is_superhost' ,'host_has_profile_pic', 'host_identity_verified' e 'instant_bookable'"
      ],
      "metadata": {
        "id": "UVKAil3EtvlX"
      }
    },
    {
      "cell_type": "code",
      "source": [
        "# Convertir las cadenas 't' y 'f' a valores numéricos binarios (0 y 1) usando .apply()\n",
        "\n",
        "boolean_columns = ['host_is_superhost', 'host_has_profile_pic', 'host_identity_verified', 'instant_bookable']\n",
        "for col in boolean_columns:\n",
        "    fd_val_imputed[col] = fd_val_imputed[col].apply(lambda x: 1 if x == 't' else 0)\n",
        "\n",
        "# Verificar los valores únicos para confirmar la transformación\n",
        "for col in boolean_columns:\n",
        "    print(f\"Valores únicos en {col} (val):\", fd_val_imputed[col].unique())"
      ],
      "metadata": {
        "colab": {
          "base_uri": "https://localhost:8080/"
        },
        "id": "Ar0HwdmWt1wf",
        "executionInfo": {
          "status": "ok",
          "timestamp": 1737219058240,
          "user_tz": -60,
          "elapsed": 189,
          "user": {
            "displayName": "Karen White",
            "userId": "15065601901182142883"
          }
        },
        "outputId": "60ff5e8e-2467-49a3-eb01-421089da41f2"
      },
      "execution_count": null,
      "outputs": [
        {
          "output_type": "stream",
          "name": "stdout",
          "text": [
            "Valores únicos en host_is_superhost (val): [1 0]\n",
            "Valores únicos en host_has_profile_pic (val): [1 0]\n",
            "Valores únicos en host_identity_verified (val): [1 0]\n",
            "Valores únicos en instant_bookable (val): [0 1]\n"
          ]
        }
      ]
    },
    {
      "cell_type": "markdown",
      "source": [
        "##'host_verifications'"
      ],
      "metadata": {
        "id": "WuI33oyxuujW"
      }
    },
    {
      "cell_type": "code",
      "source": [
        "print(\"Valores únicos en 'host_verifications':\")\n",
        "print(fd_val_imputed['host_verifications'].unique())\n"
      ],
      "metadata": {
        "colab": {
          "base_uri": "https://localhost:8080/"
        },
        "id": "rIqtVrSZjvHF",
        "executionInfo": {
          "status": "ok",
          "timestamp": 1737219062869,
          "user_tz": -60,
          "elapsed": 162,
          "user": {
            "displayName": "Karen White",
            "userId": "15065601901182142883"
          }
        },
        "outputId": "5f3c8050-4c7c-48ee-8ec4-8757f6309d8c"
      },
      "execution_count": null,
      "outputs": [
        {
          "output_type": "stream",
          "name": "stdout",
          "text": [
            "Valores únicos en 'host_verifications':\n",
            "[\"['email', 'phone']\" \"['email', 'phone', 'work_email']\" \"['phone']\"\n",
            " \"['phone', 'work_email']\"]\n"
          ]
        }
      ]
    },
    {
      "cell_type": "code",
      "source": [
        "from ast import literal_eval\n",
        "import numpy as np\n",
        "from sklearn.preprocessing import MinMaxScaler\n",
        "import joblib\n",
        "\n",
        "# Cargar el escalador previamente entrenado en train\n",
        "scaler = joblib.load('/content/drive/MyDrive/Deep_Learning_2024/Notebooks/data/pkl/scaler_verifications.pkl')\n",
        "\n",
        "# Convertir las cadenas de texto en listas reales usando literal_eval\n",
        "fd_val_imputed['host_verifications'] = fd_val_imputed['host_verifications'].apply(literal_eval)\n",
        "\n",
        "# Normalizar las listas eliminando espacios innecesarios y asegurando un formato consistente\n",
        "fd_val_imputed['host_verifications'] = fd_val_imputed['host_verifications'].apply(\n",
        "    lambda x: [item.strip().lower() for item in x]\n",
        ")\n",
        "\n",
        "# Contar el número de verificaciones para cada anfitrión, asegurando que las listas vacías sean tratadas como 0\n",
        "fd_val_imputed['num_host_verifications'] = fd_val_imputed['host_verifications'].apply(\n",
        "    lambda x: len(x) if len(x) > 0 else 0  # Listas vacías -> 0\n",
        ")\n",
        "\n",
        "# Clipping en el rango esperado (0 a 3) definido en train\n",
        "fd_val_imputed['num_host_verifications'] = np.clip(\n",
        "    fd_val_imputed['num_host_verifications'], scaler.data_min_[0], scaler.data_max_[0]\n",
        ")\n",
        "\n",
        "# Transformar los valores usando el escalador de train\n",
        "fd_val_imputed['num_host_verifications'] = scaler.transform(\n",
        "    fd_val_imputed[['num_host_verifications']]\n",
        ")\n",
        "\n",
        "# Eliminar la columna original 'host_verifications' para evitar redundancia\n",
        "fd_val_imputed.drop('host_verifications', axis=1, inplace=True)\n",
        "\n",
        "# Verificar las primeras filas para asegurarnos de que la transformación se realizó correctamente\n",
        "print(fd_val_imputed[['num_host_verifications']].head())\n"
      ],
      "metadata": {
        "colab": {
          "base_uri": "https://localhost:8080/"
        },
        "id": "mX9PpFWvuvdW",
        "executionInfo": {
          "status": "ok",
          "timestamp": 1737219077047,
          "user_tz": -60,
          "elapsed": 596,
          "user": {
            "displayName": "Karen White",
            "userId": "15065601901182142883"
          }
        },
        "outputId": "66febcb4-2b14-4664-f218-201683aee920"
      },
      "execution_count": null,
      "outputs": [
        {
          "output_type": "stream",
          "name": "stdout",
          "text": [
            "   num_host_verifications\n",
            "0                0.663333\n",
            "1                0.990000\n",
            "2                0.663333\n",
            "3                0.336667\n",
            "4                0.663333\n"
          ]
        }
      ]
    },
    {
      "cell_type": "markdown",
      "source": [
        "##'property_type'"
      ],
      "metadata": {
        "id": "HtihtS7Hu3Kl"
      }
    },
    {
      "cell_type": "code",
      "source": [
        "import joblib\n",
        "\n",
        "# Cargar las medias calculadas para 'property_type' desde el conjunto de entrenamiento\n",
        "property_price_means = joblib.load(\"/content/drive/MyDrive/Deep_Learning_2024/Notebooks/data/pkl/property_price_means.pkl\")\n",
        "\n",
        "# Crear una nueva columna 'property_type_encoded' en el conjunto de validación\n",
        "fd_val_imputed['property_type_encoded'] = fd_val_imputed['property_type'].map(property_price_means)\n",
        "\n",
        "# Manejar valores no vistos en el diccionario, asignándoles la media global calculada en el conjunto de entrenamiento\n",
        "global_mean_price_train = sum(property_price_means.values()) / len(property_price_means)\n",
        "fd_val_imputed['property_type_encoded'] = fd_val_imputed['property_type_encoded'].fillna(global_mean_price_train)\n",
        "\n",
        "# Eliminar la columna original 'property_type'\n",
        "fd_val_imputed.drop('property_type', axis=1, inplace=True)\n",
        "\n",
        "# Verificar las primeras filas para asegurarnos de que la transformación se realizó correctamente\n",
        "print(fd_val_imputed[['property_type_encoded']].head())\n"
      ],
      "metadata": {
        "colab": {
          "base_uri": "https://localhost:8080/"
        },
        "id": "M9KBOFCuu3Tk",
        "executionInfo": {
          "status": "ok",
          "timestamp": 1737219117819,
          "user_tz": -60,
          "elapsed": 594,
          "user": {
            "displayName": "Karen White",
            "userId": "15065601901182142883"
          }
        },
        "outputId": "6b43e47d-abaf-4902-b938-56a7272e745d"
      },
      "execution_count": null,
      "outputs": [
        {
          "output_type": "stream",
          "name": "stdout",
          "text": [
            "   property_type_encoded\n",
            "0              82.168798\n",
            "1             195.894336\n",
            "2              86.526829\n",
            "3             195.894336\n",
            "4             195.894336\n"
          ]
        }
      ]
    },
    {
      "cell_type": "markdown",
      "source": [
        "##'room_type'"
      ],
      "metadata": {
        "id": "5oexeew_yd5J"
      }
    },
    {
      "cell_type": "code",
      "source": [
        "import joblib\n",
        "\n",
        "# Cargar las medias calculadas previamente y la media global desde el entrenamiento\n",
        "room_data = joblib.load(\"/content/drive/MyDrive/Deep_Learning_2024/Notebooks/data/pkl/room_price_means.pkl\")\n",
        "room_price_means = room_data['room_price_means']\n",
        "global_mean_price_train = room_data['global_mean_price_train']\n",
        "\n",
        "# Aplicar el promedio calculado en train para codificar la columna en val\n",
        "fd_val_imputed['room_type_encoded'] = fd_val_imputed['room_type'].map(room_price_means)\n",
        "\n",
        "# Manejar valores no vistos en train asignándoles la media global\n",
        "fd_val_imputed['room_type_encoded'] = fd_val_imputed['room_type_encoded'].fillna(global_mean_price_train)\n",
        "\n",
        "# Eliminar la columna original 'room_type' para evitar redundancia\n",
        "fd_val_imputed.drop('room_type', axis=1, inplace=True)\n",
        "\n",
        "# Verificar las primeras filas para asegurarnos de que la transformación se realizó correctamente\n",
        "print(fd_val_imputed[['room_type_encoded']].head())"
      ],
      "metadata": {
        "colab": {
          "base_uri": "https://localhost:8080/"
        },
        "id": "tTmBS40_yfhN",
        "executionInfo": {
          "status": "ok",
          "timestamp": 1737219134676,
          "user_tz": -60,
          "elapsed": 349,
          "user": {
            "displayName": "Karen White",
            "userId": "15065601901182142883"
          }
        },
        "outputId": "b50693ff-54b4-4336-fc7a-630f1a27071d"
      },
      "execution_count": null,
      "outputs": [
        {
          "output_type": "stream",
          "name": "stdout",
          "text": [
            "   room_type_encoded\n",
            "0         112.701754\n",
            "1         223.597325\n",
            "2         112.701754\n",
            "3         223.597325\n",
            "4         223.597325\n"
          ]
        }
      ]
    },
    {
      "cell_type": "code",
      "source": [
        "# Eliminar columnas innecesarias del conjunto val\n",
        "fd_val_imputed.drop(columns=['listing_url', 'picture_url', 'amenities', 'id'], inplace=True)\n",
        "\n",
        "# Verificar que las columnas han sido eliminadas\n",
        "print(\"Columnas restantes en fd_val:\", fd_val_imputed.columns)"
      ],
      "metadata": {
        "colab": {
          "base_uri": "https://localhost:8080/"
        },
        "id": "Lb3wn1S00U66",
        "executionInfo": {
          "status": "ok",
          "timestamp": 1737219144007,
          "user_tz": -60,
          "elapsed": 161,
          "user": {
            "displayName": "Karen White",
            "userId": "15065601901182142883"
          }
        },
        "outputId": "13db05eb-287c-4970-e45d-6d3eab345912"
      },
      "execution_count": null,
      "outputs": [
        {
          "output_type": "stream",
          "name": "stdout",
          "text": [
            "Columnas restantes en fd_val: Index(['host_response_time', 'host_response_rate', 'host_acceptance_rate',\n",
            "       'host_is_superhost', 'host_total_listings_count',\n",
            "       'host_has_profile_pic', 'host_identity_verified', 'neighbourhood',\n",
            "       'neighbourhood_cleansed', 'latitude', 'longitude', 'accommodates',\n",
            "       'bathrooms', 'bedrooms', 'beds', 'price', 'minimum_nights',\n",
            "       'maximum_nights', 'availability_365', 'number_of_reviews',\n",
            "       'number_of_reviews_ltm', 'number_of_reviews_l30d',\n",
            "       'review_scores_rating', 'review_scores_accuracy',\n",
            "       'review_scores_cleanliness', 'review_scores_checkin',\n",
            "       'review_scores_communication', 'review_scores_location',\n",
            "       'review_scores_value', 'instant_bookable', 'reviews_per_month',\n",
            "       'bathrooms_shared', 'years_being_host', 'num_host_verifications',\n",
            "       'property_type_encoded', 'room_type_encoded'],\n",
            "      dtype='object')\n"
          ]
        }
      ]
    },
    {
      "cell_type": "code",
      "source": [
        "print(len(fd_val_imputed))"
      ],
      "metadata": {
        "colab": {
          "base_uri": "https://localhost:8080/"
        },
        "id": "WLmTufjZ0koh",
        "executionInfo": {
          "status": "ok",
          "timestamp": 1737219147176,
          "user_tz": -60,
          "elapsed": 163,
          "user": {
            "displayName": "Karen White",
            "userId": "15065601901182142883"
          }
        },
        "outputId": "9ce5240f-1940-4aa6-c392-a813b0103f77"
      },
      "execution_count": null,
      "outputs": [
        {
          "output_type": "stream",
          "name": "stdout",
          "text": [
            "374\n"
          ]
        }
      ]
    },
    {
      "cell_type": "code",
      "source": [
        "# Verificar si existen columnas no numéricas en fd_val_imputed\n",
        "non_numeric_columns = fd_val_imputed.select_dtypes(exclude=['number']).columns\n",
        "\n",
        "# Imprimir las columnas no numéricas\n",
        "print(\"Columnas no numéricas en fd_val_imputed:\", non_numeric_columns)\n"
      ],
      "metadata": {
        "colab": {
          "base_uri": "https://localhost:8080/"
        },
        "id": "u1ml5VFk0qBv",
        "executionInfo": {
          "status": "ok",
          "timestamp": 1737219171391,
          "user_tz": -60,
          "elapsed": 154,
          "user": {
            "displayName": "Karen White",
            "userId": "15065601901182142883"
          }
        },
        "outputId": "37c39823-7c10-44b9-db0f-5d8b8668b19b"
      },
      "execution_count": null,
      "outputs": [
        {
          "output_type": "stream",
          "name": "stdout",
          "text": [
            "Columnas no numéricas en fd_val_imputed: Index([], dtype='object')\n"
          ]
        }
      ]
    },
    {
      "cell_type": "code",
      "source": [
        "# Guardar el conjunto val imputado y con todas las columnas convertidas a numéricas\n",
        "fd_val_imputed.to_csv(\"/content/drive/MyDrive/Deep_Learning_2024/Notebooks/data/fd_val_imputed_num.csv\", sep=';', index=False)\n",
        "\n",
        "# Confirmación del guardado\n",
        "print(\"El archivo CSV con los datos imputados y numéricos ha sido guardado como 'fd_val_imputed_num.csv'\")"
      ],
      "metadata": {
        "colab": {
          "base_uri": "https://localhost:8080/"
        },
        "id": "aaP19vHo0xPK",
        "executionInfo": {
          "status": "ok",
          "timestamp": 1737219179340,
          "user_tz": -60,
          "elapsed": 187,
          "user": {
            "displayName": "Karen White",
            "userId": "15065601901182142883"
          }
        },
        "outputId": "1e4fbaac-bfd8-4b56-eafe-cd6226d9e5d0"
      },
      "execution_count": null,
      "outputs": [
        {
          "output_type": "stream",
          "name": "stdout",
          "text": [
            "El archivo CSV con los datos imputados y numéricos ha sido guardado como 'fd_val_imputed_num.csv'\n"
          ]
        }
      ]
    },
    {
      "cell_type": "code",
      "source": [
        "# Cargar el conjunto de validación imputado y numérico desde el archivo CSV\n",
        "fd_val_imputed_num = pd.read_csv(\"/content/drive/MyDrive/Deep_Learning_2024/Notebooks/data/fd_val_imputed_num.csv\", sep=';')\n",
        "\n",
        "# Confirmación de la carga\n",
        "print(\"El archivo CSV 'fd_val_imputed_num.csv' ha sido cargado exitosamente.\")"
      ],
      "metadata": {
        "colab": {
          "base_uri": "https://localhost:8080/"
        },
        "id": "aAJKKXkR1AS8",
        "executionInfo": {
          "status": "ok",
          "timestamp": 1737219205840,
          "user_tz": -60,
          "elapsed": 148,
          "user": {
            "displayName": "Karen White",
            "userId": "15065601901182142883"
          }
        },
        "outputId": "a9d633f1-e831-4437-e156-5173b991b221"
      },
      "execution_count": null,
      "outputs": [
        {
          "output_type": "stream",
          "name": "stdout",
          "text": [
            "El archivo CSV 'fd_val_imputed_num.csv' ha sido cargado exitosamente.\n"
          ]
        }
      ]
    },
    {
      "cell_type": "markdown",
      "source": [
        "## **OUTLIERS**\n",
        "\"price\""
      ],
      "metadata": {
        "id": "380pht-90-UC"
      }
    },
    {
      "cell_type": "code",
      "source": [
        "# Contar registros antes de eliminar outliers\n",
        "initial_val_count = fd_val_imputed_num.shape[0]\n",
        "\n",
        "# Identificar índices de los registros que serán eliminados\n",
        "outliers_val = fd_val_imputed_num[fd_val_imputed_num['price'] > 3000].index\n",
        "\n",
        "# Eliminar registros\n",
        "fd_val_imputed_num = fd_val_imputed_num.drop(outliers_val)\n",
        "\n",
        "# Contar registros después de eliminar outliers\n",
        "final_val_count = fd_val_imputed_num.shape[0]\n",
        "\n",
        "# Mostrar cuántos registros se eliminaron\n",
        "print(f\"Registros eliminados en val: {initial_val_count - final_val_count}\")\n",
        "print(f\"Registros restantes en val después del filtro: {final_val_count}\")\n"
      ],
      "metadata": {
        "colab": {
          "base_uri": "https://localhost:8080/"
        },
        "id": "NAguuQ-L19Go",
        "executionInfo": {
          "status": "ok",
          "timestamp": 1737219281419,
          "user_tz": -60,
          "elapsed": 161,
          "user": {
            "displayName": "Karen White",
            "userId": "15065601901182142883"
          }
        },
        "outputId": "146bbb28-8a5d-4234-9199-52559478b17a"
      },
      "execution_count": null,
      "outputs": [
        {
          "output_type": "stream",
          "name": "stdout",
          "text": [
            "Registros eliminados en val: 1\n",
            "Registros restantes en val después del filtro: 373\n"
          ]
        }
      ]
    },
    {
      "cell_type": "markdown",
      "source": [
        "## ⏰ **OJO SE ELIMINA 1 REGISTRO**"
      ],
      "metadata": {
        "id": "R-t8R84XZVZr"
      }
    },
    {
      "cell_type": "markdown",
      "source": [
        "Capping a 'number_of_reviews', 'reviews_per_month', 'host_total_listings_count', 'minimum_nights', 'maximum_nights'"
      ],
      "metadata": {
        "id": "jPe3IlTu3_Oh"
      }
    },
    {
      "cell_type": "code",
      "source": [
        "import numpy as np\n",
        "import pickle\n",
        "\n",
        "# Cargar los thresholds calculados previamente en train\n",
        "with open('/content/drive/MyDrive/Deep_Learning_2024/Notebooks/data/pkl/capping_thresholds.pkl', 'rb') as f:\n",
        "    capping_thresholds = pickle.load(f)\n",
        "\n",
        "# Aplicar capping a las columnas en el conjunto de validación\n",
        "for column in ['number_of_reviews', 'reviews_per_month', 'host_total_listings_count', 'minimum_nights', 'maximum_nights']:\n",
        "    # Obtener el threshold para la columna\n",
        "    threshold = capping_thresholds[column]\n",
        "\n",
        "    # Aplicar capping en los valores que superan el threshold\n",
        "    fd_val_imputed_num[column] = np.where(fd_val_imputed_num[column] > threshold, threshold, fd_val_imputed_num[column])\n",
        "\n",
        "# Verificar algunos valores después del capping en fd_val\n",
        "print(\"Valores después del capping en 'maximum_nights' (val):\")\n",
        "print(fd_val_imputed_num['maximum_nights'].sort_values(ascending=False).head())\n"
      ],
      "metadata": {
        "colab": {
          "base_uri": "https://localhost:8080/"
        },
        "id": "ZxkFT91e4RZ-",
        "executionInfo": {
          "status": "ok",
          "timestamp": 1737219364342,
          "user_tz": -60,
          "elapsed": 401,
          "user": {
            "displayName": "Karen White",
            "userId": "15065601901182142883"
          }
        },
        "outputId": "ea8b7ab5-6e85-4e25-9696-59683a9f0781"
      },
      "execution_count": null,
      "outputs": [
        {
          "output_type": "stream",
          "name": "stdout",
          "text": [
            "Valores después del capping en 'maximum_nights' (val):\n",
            "97     1125.0\n",
            "285    1125.0\n",
            "254    1125.0\n",
            "259    1125.0\n",
            "128    1125.0\n",
            "Name: maximum_nights, dtype: float64\n"
          ]
        }
      ]
    },
    {
      "cell_type": "code",
      "source": [
        "# Guardar el fd_val_imputed_num_out preprocesado CON TRABAJO DE OUTLIERS en un archivo CSV\n",
        "fd_val_imputed_num.to_csv(\"/content/drive/MyDrive/Deep_Learning_2024/Notebooks/data/fd_val_imputed_num_out.csv\", sep=';', index=False)"
      ],
      "metadata": {
        "id": "-XgYw--q5NA-"
      },
      "execution_count": null,
      "outputs": []
    },
    {
      "cell_type": "code",
      "source": [
        "# Cargar el DataFrame preprocesado preprocesado CON TRABAJO DE OUTLIERS desde un archivo CSV\n",
        "import pandas as pd\n",
        "fd_val_imputed_num_out = pd.read_csv(\"/content/drive/MyDrive/Deep_Learning_2024/Notebooks/data/fd_val_imputed_num_out.csv\", sep=';')"
      ],
      "metadata": {
        "id": "fnHGjMQv5UZr",
        "executionInfo": {
          "status": "ok",
          "timestamp": 1737290926728,
          "user_tz": -60,
          "elapsed": 721,
          "user": {
            "displayName": "Karen White",
            "userId": "15065601901182142883"
          }
        }
      },
      "execution_count": 3,
      "outputs": []
    },
    {
      "cell_type": "code",
      "source": [
        "fd_val_imputed_num_out.shape"
      ],
      "metadata": {
        "colab": {
          "base_uri": "https://localhost:8080/"
        },
        "id": "jVBg1muQ5kOw",
        "executionInfo": {
          "status": "ok",
          "timestamp": 1737290929248,
          "user_tz": -60,
          "elapsed": 224,
          "user": {
            "displayName": "Karen White",
            "userId": "15065601901182142883"
          }
        },
        "outputId": "163118a9-f769-48c5-ab43-5034cfc5e77d"
      },
      "execution_count": 4,
      "outputs": [
        {
          "output_type": "execute_result",
          "data": {
            "text/plain": [
              "(373, 36)"
            ]
          },
          "metadata": {},
          "execution_count": 4
        }
      ]
    },
    {
      "cell_type": "markdown",
      "source": [
        "Eliminar 'neighbourhood por que tiene mas correlacion con 'price_log 'neighbourhood_cleansed'"
      ],
      "metadata": {
        "id": "RyZb4U1x5zJ7"
      }
    },
    {
      "cell_type": "code",
      "source": [
        "#drop de 'neighbourhood'\n",
        "fd_val_imputed_num_out.drop(columns=['neighbourhood'], inplace=True)"
      ],
      "metadata": {
        "id": "_lGEr7Rx509v",
        "executionInfo": {
          "status": "ok",
          "timestamp": 1737290932501,
          "user_tz": -60,
          "elapsed": 212,
          "user": {
            "displayName": "Karen White",
            "userId": "15065601901182142883"
          }
        }
      },
      "execution_count": 5,
      "outputs": []
    },
    {
      "cell_type": "code",
      "source": [
        "print(fd_val_imputed_num_out.head(6).to_string())"
      ],
      "metadata": {
        "colab": {
          "base_uri": "https://localhost:8080/"
        },
        "id": "UdSchyp4617L",
        "executionInfo": {
          "status": "ok",
          "timestamp": 1737290935280,
          "user_tz": -60,
          "elapsed": 214,
          "user": {
            "displayName": "Karen White",
            "userId": "15065601901182142883"
          }
        },
        "outputId": "eb079f70-c138-4050-c2f4-af60df76f526"
      },
      "execution_count": 6,
      "outputs": [
        {
          "output_type": "stream",
          "name": "stdout",
          "text": [
            "   host_response_time  host_response_rate  host_acceptance_rate  host_is_superhost  host_total_listings_count  host_has_profile_pic  host_identity_verified  neighbourhood_cleansed  latitude  longitude  accommodates  bathrooms  bedrooms  beds  price  minimum_nights  maximum_nights  availability_365  number_of_reviews  number_of_reviews_ltm  number_of_reviews_l30d  review_scores_rating  review_scores_accuracy  review_scores_cleanliness  review_scores_checkin  review_scores_communication  review_scores_location  review_scores_value  instant_bookable  reviews_per_month  bathrooms_shared  years_being_host  num_host_verifications  property_type_encoded  room_type_encoded\n",
            "0                   3                1.00                  0.99                  1                        3.0                     1                       1                      12  42.30816  -71.07790             2        1.0       1.0   1.0   65.0             1.0            14.0                 0              179.0                     63                       1                  4.78                   4.850                       4.93                   4.92                         4.86                    4.43                 4.72                 0              5.350                 1                 8                0.663333              82.168798         112.701754\n",
            "1                   4                1.00                  1.00                  1                        2.0                     1                       1                      22  42.36551  -71.05513             4        1.0       2.0   2.0  316.0             2.0            90.0               333              250.0                     52                       2                  4.96                   4.960                       4.89                   4.98                         4.98                    4.99                 4.82                 0              3.590                 0                 7                0.990000             195.894336         223.597325\n",
            "2                   4                1.00                  1.00                  0                        9.0                     1                       1                      24  42.32003  -71.07826             1        1.0       1.0   1.0   60.0             2.0           365.0                 0               49.0                      9                       0                  4.56                   4.740                       4.62                   4.94                         4.76                    4.28                 4.40                 0              0.760                 1                 7                0.663333              86.526829         112.701754\n",
            "3                   4                0.92                  0.72                  0                      174.0                     1                       1                       8  42.36033  -71.14863             6        2.0       3.0   5.0  499.0            29.0           365.0               352                8.0                      8                       0                  4.75                   4.750                       4.88                   4.88                         5.00                    4.13                 4.63                 0              1.530                 0                 8                0.336667             195.894336         223.597325\n",
            "4                   4                1.00                  0.96                  0                      257.0                     1                       1                       4  42.35950  -71.06517             4        1.0       2.0   3.0  110.0            29.0           365.0               174                0.0                      0                       0                  4.83                   4.875                       4.86                   4.94                         4.94                    4.85                 4.70                 0              1.235                 0                 5                0.663333             195.894336         223.597325\n",
            "5                   4                0.96                  0.97                  0                       34.0                     1                       1                      28  42.34758  -71.06995             3        1.0       2.0   2.0   87.0             3.0           300.0               312              140.0                     20                       3                  4.22                   4.360                       4.26                   4.75                         4.74                    4.82                 4.24                 0              2.440                 0                 6                0.336667             195.894336         223.597325\n"
          ]
        }
      ]
    },
    {
      "cell_type": "markdown",
      "source": [
        "# **NORMALIZACIÓN**"
      ],
      "metadata": {
        "id": "G8oCNq-utgvL"
      }
    },
    {
      "cell_type": "markdown",
      "source": [
        "####Normalizare 'bedrooms', 'beds', 'accommodates', 'bathrooms'"
      ],
      "metadata": {
        "id": "1u3aPrpR8HM6"
      }
    },
    {
      "cell_type": "code",
      "source": [
        "from sklearn.preprocessing import MinMaxScaler\n",
        "import joblib\n",
        "\n",
        "# Cargar el escalador entrenado en train\n",
        "scaler_bedrooms_beds_adjusted = joblib.load('/content/drive/MyDrive/Deep_Learning_2024/Notebooks/data/pkl/scaler_bedrooms_beds_adjusted.pkl')\n",
        "\n",
        "# Aplicar el escalador a 'bedrooms', 'beds', 'accommodates', y 'bathrooms' en validación\n",
        "fd_val_imputed_num_out[['bedrooms', 'beds', 'accommodates', 'bathrooms']] = scaler_bedrooms_beds_adjusted.transform(\n",
        "    fd_val_imputed_num_out[['bedrooms', 'beds', 'accommodates', 'bathrooms']]\n",
        ")\n",
        "\n",
        "# Verificar los valores después del ajuste\n",
        "adjusted_bedrooms_beds_stats_val = fd_val_imputed_num_out[['bedrooms', 'beds', 'accommodates', 'bathrooms']].agg(['min', 'max'])\n",
        "\n",
        "# Mostrar los resultados\n",
        "print(adjusted_bedrooms_beds_stats_val)\n"
      ],
      "metadata": {
        "colab": {
          "base_uri": "https://localhost:8080/"
        },
        "id": "kVA0EMPk8ESw",
        "executionInfo": {
          "status": "ok",
          "timestamp": 1737290944545,
          "user_tz": -60,
          "elapsed": 3189,
          "user": {
            "displayName": "Karen White",
            "userId": "15065601901182142883"
          }
        },
        "outputId": "498012e5-39e7-4fc5-a186-ed0c56334d44"
      },
      "execution_count": 7,
      "outputs": [
        {
          "output_type": "stream",
          "name": "stdout",
          "text": [
            "     bedrooms  beds  accommodates  bathrooms\n",
            "min      0.01  0.01          0.01   0.010000\n",
            "max      0.99  0.71          0.99   0.663333\n"
          ]
        }
      ]
    },
    {
      "cell_type": "code",
      "source": [
        "print(fd_val_imputed_num_out.head().to_string())"
      ],
      "metadata": {
        "colab": {
          "base_uri": "https://localhost:8080/"
        },
        "id": "zhtV4zLt2ofI",
        "executionInfo": {
          "status": "ok",
          "timestamp": 1737290945904,
          "user_tz": -60,
          "elapsed": 199,
          "user": {
            "displayName": "Karen White",
            "userId": "15065601901182142883"
          }
        },
        "outputId": "61c06e39-c5a7-4f8f-e41e-7f5d1f907ce0"
      },
      "execution_count": 8,
      "outputs": [
        {
          "output_type": "stream",
          "name": "stdout",
          "text": [
            "   host_response_time  host_response_rate  host_acceptance_rate  host_is_superhost  host_total_listings_count  host_has_profile_pic  host_identity_verified  neighbourhood_cleansed  latitude  longitude  accommodates  bathrooms  bedrooms      beds  price  minimum_nights  maximum_nights  availability_365  number_of_reviews  number_of_reviews_ltm  number_of_reviews_l30d  review_scores_rating  review_scores_accuracy  review_scores_cleanliness  review_scores_checkin  review_scores_communication  review_scores_location  review_scores_value  instant_bookable  reviews_per_month  bathrooms_shared  years_being_host  num_host_verifications  property_type_encoded  room_type_encoded\n",
            "0                   3                1.00                  0.99                  1                        3.0                     1                       1                      12  42.30816  -71.07790      0.075333   0.173333      0.01  0.010000   65.0             1.0            14.0                 0              179.0                     63                       1                  4.78                   4.850                       4.93                   4.92                         4.86                    4.43                 4.72                 0              5.350                 1                 8                0.663333              82.168798         112.701754\n",
            "1                   4                1.00                  1.00                  1                        2.0                     1                       1                      22  42.36551  -71.05513      0.206000   0.173333      0.15  0.056667  316.0             2.0            90.0               333              250.0                     52                       2                  4.96                   4.960                       4.89                   4.98                         4.98                    4.99                 4.82                 0              3.590                 0                 7                0.990000             195.894336         223.597325\n",
            "2                   4                1.00                  1.00                  0                        9.0                     1                       1                      24  42.32003  -71.07826      0.010000   0.173333      0.01  0.010000   60.0             2.0           365.0                 0               49.0                      9                       0                  4.56                   4.740                       4.62                   4.94                         4.76                    4.28                 4.40                 0              0.760                 1                 7                0.663333              86.526829         112.701754\n",
            "3                   4                0.92                  0.72                  0                      174.0                     1                       1                       8  42.36033  -71.14863      0.336667   0.336667      0.29  0.196667  499.0            29.0           365.0               352                8.0                      8                       0                  4.75                   4.750                       4.88                   4.88                         5.00                    4.13                 4.63                 0              1.530                 0                 8                0.336667             195.894336         223.597325\n",
            "4                   4                1.00                  0.96                  0                      257.0                     1                       1                       4  42.35950  -71.06517      0.206000   0.173333      0.15  0.103333  110.0            29.0           365.0               174                0.0                      0                       0                  4.83                   4.875                       4.86                   4.94                         4.94                    4.85                 4.70                 0              1.235                 0                 5                0.663333             195.894336         223.597325\n"
          ]
        }
      ]
    },
    {
      "cell_type": "markdown",
      "source": [
        "# **Columnas Numéricas para Normalización**\n",
        "## **Transformación Logarítmica (log1p)**\n"
      ],
      "metadata": {
        "id": "NJjVTJZZ8VEC"
      }
    },
    {
      "cell_type": "code",
      "source": [
        "import numpy as np\n",
        "import joblib\n",
        "\n",
        "# Cargar la información de la transformación desde Train\n",
        "price_transform = joblib.load(\"/content/drive/MyDrive/Deep_Learning_2024/Notebooks/data/pkl/price_transform.pkl\")\n",
        "\n",
        "# Aplicar log1p a la variable objetivo 'price' en Val y Test\n",
        "fd_val_imputed_num_out['price'] = np.log1p(fd_val_imputed_num_out['price'])\n",
        "\n",
        "\n",
        "print(\"✅ Transformación logarítmica aplicada en `price` de Val\")\n",
        "\n"
      ],
      "metadata": {
        "id": "g2nKsQPrrHc9",
        "colab": {
          "base_uri": "https://localhost:8080/"
        },
        "executionInfo": {
          "status": "ok",
          "timestamp": 1737290971215,
          "user_tz": -60,
          "elapsed": 216,
          "user": {
            "displayName": "Karen White",
            "userId": "15065601901182142883"
          }
        },
        "outputId": "695ab99b-f4c1-4fe3-d5ac-2cc3d1f400ae"
      },
      "execution_count": 10,
      "outputs": [
        {
          "output_type": "stream",
          "name": "stdout",
          "text": [
            "✅ Transformación logarítmica aplicada en `price` de Val\n"
          ]
        }
      ]
    },
    {
      "cell_type": "code",
      "source": [
        "# Cargar las columnas a transformar\n",
        "columns_to_log_transform = joblib.load(\"/content/drive/MyDrive/Deep_Learning_2024/Notebooks/data/pkl/log_transform_columns.pkl\")\n",
        "\n",
        "# Aplicar transformación en val\n",
        "for col in columns_to_log_transform:\n",
        "    fd_val_imputed_num_out[col] = np.log1p(fd_val_imputed_num_out[col])  # log(1 + x)\n",
        "\n",
        "print(\"✅ Transformación logarítmica aplicada en `val` usando los mismos parámetros de `train`.\")\n"
      ],
      "metadata": {
        "id": "Wnw3jQhZrHfh",
        "colab": {
          "base_uri": "https://localhost:8080/"
        },
        "executionInfo": {
          "status": "ok",
          "timestamp": 1737290978011,
          "user_tz": -60,
          "elapsed": 409,
          "user": {
            "displayName": "Karen White",
            "userId": "15065601901182142883"
          }
        },
        "outputId": "3022d551-b46d-4ccb-fc11-bc1b15f8286a"
      },
      "execution_count": 11,
      "outputs": [
        {
          "output_type": "stream",
          "name": "stdout",
          "text": [
            "✅ Transformación logarítmica aplicada en `val` usando los mismos parámetros de `train`.\n"
          ]
        }
      ]
    },
    {
      "cell_type": "markdown",
      "source": [
        "# **Embeddings**\n"
      ],
      "metadata": {
        "id": "S_NFHy_5x70J"
      }
    },
    {
      "cell_type": "code",
      "source": [
        "# Variables categóricas que usaremos en embeddings\n",
        "categorical_columns = ['host_response_time', 'neighbourhood_cleansed',\n",
        "                       'property_type_encoded', 'room_type_encoded']\n",
        "\n",
        "# Cargar los mapeos guardados en train\n",
        "category_mappings = joblib.load(\"/content/drive/MyDrive/Deep_Learning_2024/Notebooks/data/pkl/category_mappings.pkl\")\n",
        "\n",
        "# Aplicar los mapeos en val\n",
        "for col in categorical_columns:\n",
        "    fd_val_imputed_num_out[col] = fd_val_imputed_num_out[col].map(category_mappings[col])\n",
        "\n",
        "print(\"Transformación de variables categóricas a índices en Val completada.\")\n"
      ],
      "metadata": {
        "id": "O3YmkT20rHh5",
        "colab": {
          "base_uri": "https://localhost:8080/"
        },
        "executionInfo": {
          "status": "ok",
          "timestamp": 1737290983491,
          "user_tz": -60,
          "elapsed": 188,
          "user": {
            "displayName": "Karen White",
            "userId": "15065601901182142883"
          }
        },
        "outputId": "7d83dd99-8ec4-4e51-a734-e62a4c1d3875"
      },
      "execution_count": 12,
      "outputs": [
        {
          "output_type": "stream",
          "name": "stdout",
          "text": [
            "Transformación de variables categóricas a índices en Val completada.\n"
          ]
        }
      ]
    },
    {
      "cell_type": "markdown",
      "source": [
        "## **StandardScaler para variables con alta varianza**"
      ],
      "metadata": {
        "id": "Qz0zpdHvzEK_"
      }
    },
    {
      "cell_type": "markdown",
      "source": [
        "## **StandardScaler para Geo**"
      ],
      "metadata": {
        "id": "tY498U4C1ODO"
      }
    },
    {
      "cell_type": "code",
      "source": [
        "# Cargar el scaler de train\n",
        "scaler_geo = joblib.load(\"/content/drive/MyDrive/Deep_Learning_2024/Notebooks/data/pkl/standard_scaler_geo.pkl\")\n",
        "\n",
        "# Aplicar transformación en validación\n",
        "fd_val_imputed_num_out[['latitude', 'longitude']] = scaler_geo.transform(fd_val_imputed_num_out[['latitude', 'longitude']])\n",
        "\n"
      ],
      "metadata": {
        "id": "LJufyo0yrHmn",
        "executionInfo": {
          "status": "ok",
          "timestamp": 1737290989568,
          "user_tz": -60,
          "elapsed": 256,
          "user": {
            "displayName": "Karen White",
            "userId": "15065601901182142883"
          }
        }
      },
      "execution_count": 13,
      "outputs": []
    },
    {
      "cell_type": "markdown",
      "source": [
        "## **MinMaxScaler**"
      ],
      "metadata": {
        "id": "TRmvt3Iz3qhK"
      }
    },
    {
      "cell_type": "code",
      "source": [
        "\n",
        "columns_to_minmax = [\n",
        "    'review_scores_rating', 'review_scores_accuracy', 'review_scores_cleanliness',\n",
        "    'review_scores_checkin', 'review_scores_communication', 'review_scores_location',\n",
        "    'review_scores_value'\n",
        "]\n",
        "\n",
        "# Cargar scaler de train\n",
        "scaler_minmax = joblib.load(\"/content/drive/MyDrive/Deep_Learning_2024/Notebooks/data/pkl/minmax_scaler.pkl\")\n",
        "\n",
        "# Aplicar MinMaxScaler en val\n",
        "fd_val_imputed_num_out[columns_to_minmax] = scaler_minmax.transform(fd_val_imputed_num_out[columns_to_minmax])\n",
        "\n",
        "\n",
        "print(\"MinMaxScaler aplicado en Val correctamente.\")"
      ],
      "metadata": {
        "id": "MNPFinJ_rHqs",
        "colab": {
          "base_uri": "https://localhost:8080/"
        },
        "executionInfo": {
          "status": "ok",
          "timestamp": 1737290993721,
          "user_tz": -60,
          "elapsed": 409,
          "user": {
            "displayName": "Karen White",
            "userId": "15065601901182142883"
          }
        },
        "outputId": "17cea59e-6602-4412-83c5-07a0a4fdc30a"
      },
      "execution_count": 14,
      "outputs": [
        {
          "output_type": "stream",
          "name": "stdout",
          "text": [
            "MinMaxScaler aplicado en Val correctamente.\n"
          ]
        }
      ]
    },
    {
      "cell_type": "code",
      "source": [
        "# Definir las columnas\n",
        "columns_to_scale = ['availability_365', 'years_being_host']\n",
        "\n",
        "\n",
        "# Cargar el scaler guardado de train\n",
        "scaler = joblib.load(\"/content/drive/MyDrive/Deep_Learning_2024/Notebooks/data/pkl/minmax_scaler_availability_host.pkl\")\n",
        "\n",
        "# Aplicar el escalado en val y test\n",
        "fd_val_imputed_num_out[columns_to_scale] = scaler.transform(fd_val_imputed_num_out[columns_to_scale])\n",
        "\n",
        "print(\"✔️ MinMaxScaler aplicado correctamente en val y test.\")"
      ],
      "metadata": {
        "id": "8r7mFblg3Viw",
        "colab": {
          "base_uri": "https://localhost:8080/"
        },
        "executionInfo": {
          "status": "ok",
          "timestamp": 1737290998122,
          "user_tz": -60,
          "elapsed": 223,
          "user": {
            "displayName": "Karen White",
            "userId": "15065601901182142883"
          }
        },
        "outputId": "3e0ebc4c-a4cd-404c-855e-4edb9f699f9d"
      },
      "execution_count": 15,
      "outputs": [
        {
          "output_type": "stream",
          "name": "stdout",
          "text": [
            "✔️ MinMaxScaler aplicado correctamente en val y test.\n"
          ]
        }
      ]
    },
    {
      "cell_type": "markdown",
      "source": [
        "###*'neighbourhood_cleansed'* ya paso por labelencoder y esta codficada.\n",
        "\n",
        "No necesita en este momento normalizacion, puede trabajarse mas segun el modelo que haga si es con redes neuronales o arboles, etc."
      ],
      "metadata": {
        "id": "bwq9y3Re-6uH"
      }
    },
    {
      "cell_type": "code",
      "source": [
        "# Guardar el fd_val_imputed_num_out PARA CORRELACIONAR\n",
        "fd_val_imputed_num_out.to_csv(\"/content/drive/MyDrive/Deep_Learning_2024/Notebooks/data/fd_val_acorrelacion.csv\", sep=';', index=False)"
      ],
      "metadata": {
        "id": "p4f5gsmZiEBZ",
        "executionInfo": {
          "status": "ok",
          "timestamp": 1737291110478,
          "user_tz": -60,
          "elapsed": 202,
          "user": {
            "displayName": "Karen White",
            "userId": "15065601901182142883"
          }
        }
      },
      "execution_count": 17,
      "outputs": []
    },
    {
      "cell_type": "code",
      "source": [
        "# Cargar el fd_train_acorrelacion\n",
        "import pandas as pd\n",
        "fd_val_acorrelacion= pd.read_csv(\"/content/drive/MyDrive/Deep_Learning_2024/Notebooks/data/fd_val_acorrelacion.csv\", sep=';')"
      ],
      "metadata": {
        "id": "zIWmaSgGiED2",
        "executionInfo": {
          "status": "ok",
          "timestamp": 1737291123711,
          "user_tz": -60,
          "elapsed": 219,
          "user": {
            "displayName": "Karen White",
            "userId": "15065601901182142883"
          }
        }
      },
      "execution_count": 18,
      "outputs": []
    },
    {
      "cell_type": "code",
      "source": [
        "fd_val_acorrelacion.shape"
      ],
      "metadata": {
        "colab": {
          "base_uri": "https://localhost:8080/"
        },
        "id": "MayoArlK44GI",
        "executionInfo": {
          "status": "ok",
          "timestamp": 1737291125768,
          "user_tz": -60,
          "elapsed": 204,
          "user": {
            "displayName": "Karen White",
            "userId": "15065601901182142883"
          }
        },
        "outputId": "a538a4a1-efb5-4785-931a-548395fff274"
      },
      "execution_count": 19,
      "outputs": [
        {
          "output_type": "execute_result",
          "data": {
            "text/plain": [
              "(373, 35)"
            ]
          },
          "metadata": {},
          "execution_count": 19
        }
      ]
    },
    {
      "cell_type": "code",
      "source": [
        "import pandas as pd\n",
        "\n",
        "# Configuración para mostrar todas las columnas sin truncar\n",
        "pd.set_option('display.max_columns', None)\n",
        "\n",
        "# Para fd_val_finalpreprocesado\n",
        "print(\"\\nMínimo y máximo en cada columna de fd_val_finpreprocesado:\")\n",
        "min_max_val = fd_val_acorrelacion.agg(['min', 'max'])\n",
        "print(min_max_val)\n",
        "\n",
        "# Opcional: Restaurar configuración para evitar demasiadas columnas en futuras salidas\n",
        "pd.reset_option('display.max_columns')"
      ],
      "metadata": {
        "colab": {
          "base_uri": "https://localhost:8080/"
        },
        "id": "4GK0n8v0kKzd",
        "executionInfo": {
          "status": "ok",
          "timestamp": 1737291128125,
          "user_tz": -60,
          "elapsed": 192,
          "user": {
            "displayName": "Karen White",
            "userId": "15065601901182142883"
          }
        },
        "outputId": "3c1c3c9e-2052-41f3-baad-60e7542d3c35"
      },
      "execution_count": 20,
      "outputs": [
        {
          "output_type": "stream",
          "name": "stdout",
          "text": [
            "\n",
            "Mínimo y máximo en cada columna de fd_val_finpreprocesado:\n",
            "     host_response_time  host_response_rate  host_acceptance_rate  \\\n",
            "min                   0                 0.0                   0.0   \n",
            "max                   3                 1.0                   1.0   \n",
            "\n",
            "     host_is_superhost  host_total_listings_count  host_has_profile_pic  \\\n",
            "min                  0                   0.693147                     0   \n",
            "max                  1                   7.270313                     1   \n",
            "\n",
            "     host_identity_verified  neighbourhood_cleansed  latitude  longitude  \\\n",
            "min                       0                       0 -3.576252  -2.803618   \n",
            "max                       1                      24  1.958795   2.485527   \n",
            "\n",
            "     accommodates  bathrooms  bedrooms  beds     price  minimum_nights  \\\n",
            "min          0.01   0.010000      0.01  0.01  3.583519        0.693147   \n",
            "max          0.99   0.663333      0.99  0.71  7.601402        4.521789   \n",
            "\n",
            "     maximum_nights  availability_365  number_of_reviews  \\\n",
            "min        2.079442               0.0           0.000000   \n",
            "max        7.026427               1.0           6.065899   \n",
            "\n",
            "     number_of_reviews_ltm  number_of_reviews_l30d  review_scores_rating  \\\n",
            "min               0.000000                0.000000                  0.25   \n",
            "max               5.036953                2.197225                  1.00   \n",
            "\n",
            "     review_scores_accuracy  review_scores_cleanliness  review_scores_checkin  \\\n",
            "min                     0.5                        0.6                    0.6   \n",
            "max                     1.0                        1.0                    1.0   \n",
            "\n",
            "     review_scores_communication  review_scores_location  review_scores_value  \\\n",
            "min                         0.25                    0.25                  0.0   \n",
            "max                         1.00                    1.00                  1.0   \n",
            "\n",
            "     instant_bookable  reviews_per_month  bathrooms_shared  years_being_host  \\\n",
            "min                 0           0.009950                 0               0.0   \n",
            "max                 1           2.287766                 1               1.0   \n",
            "\n",
            "     num_host_verifications  property_type_encoded  room_type_encoded  \n",
            "min                0.336667                      5                  0  \n",
            "max                0.990000                     32                  3  \n"
          ]
        }
      ]
    },
    {
      "cell_type": "markdown",
      "source": [
        "# **CORRELACIONAR**"
      ],
      "metadata": {
        "id": "eppELPy4Gys9"
      }
    },
    {
      "cell_type": "markdown",
      "source": [
        "**review_scores_rating vs. review_scores_accuracy vs. review_scores_value**"
      ],
      "metadata": {
        "id": "jpbAeFD0HsHK"
      }
    },
    {
      "cell_type": "code",
      "source": [
        "# Definir las columnas de reviews con correlación extrema\n",
        "review_columns_extreme = ['review_scores_rating', 'review_scores_accuracy', 'review_scores_value']\n",
        "\n",
        "\n",
        "# Cargar la media calculada en train\n",
        "review_overall_mean_train = joblib.load(\"/content/drive/MyDrive/Deep_Learning_2024/Notebooks/data/pkl/review_overall_mean.pkl\")\n",
        "\n",
        "# Aplicar en val\n",
        "fd_val_acorrelacion['review_overall_score'] = fd_val_acorrelacion[review_columns_extreme].mean(axis=1)\n",
        "fd_val_acorrelacion['review_overall_score'].fillna(review_overall_mean_train, inplace=True)\n",
        "fd_val_acorrelacion.drop(columns=review_columns_extreme, inplace=True)\n",
        "\n",
        "\n",
        "# Verificar\n",
        "print(fd_val_acorrelacion[['review_overall_score']].describe())\n"
      ],
      "metadata": {
        "id": "xnB51pIUGyDe",
        "colab": {
          "base_uri": "https://localhost:8080/"
        },
        "executionInfo": {
          "status": "ok",
          "timestamp": 1737291140208,
          "user_tz": -60,
          "elapsed": 386,
          "user": {
            "displayName": "Karen White",
            "userId": "15065601901182142883"
          }
        },
        "outputId": "5762c3ab-7fde-4328-e9df-54ceb3fb66c5"
      },
      "execution_count": 21,
      "outputs": [
        {
          "output_type": "stream",
          "name": "stdout",
          "text": [
            "       review_overall_score\n",
            "count            373.000000\n",
            "mean               0.928653\n",
            "std                0.083326\n",
            "min                0.283333\n",
            "25%                0.924000\n",
            "50%                0.952500\n",
            "75%                0.969000\n",
            "max                1.000000\n"
          ]
        },
        {
          "output_type": "stream",
          "name": "stderr",
          "text": [
            "<ipython-input-21-b3aa10fe061a>:10: FutureWarning: A value is trying to be set on a copy of a DataFrame or Series through chained assignment using an inplace method.\n",
            "The behavior will change in pandas 3.0. This inplace method will never work because the intermediate object on which we are setting values always behaves as a copy.\n",
            "\n",
            "For example, when doing 'df[col].method(value, inplace=True)', try using 'df.method({col: value}, inplace=True)' or df[col] = df[col].method(value) instead, to perform the operation inplace on the original object.\n",
            "\n",
            "\n",
            "  fd_val_acorrelacion['review_overall_score'].fillna(review_overall_mean_train, inplace=True)\n"
          ]
        }
      ]
    },
    {
      "cell_type": "code",
      "source": [
        "# Eliminar las columnas mas correlacionadas entre si de las reseñas\n",
        "fd_val_acorrelacion.drop(columns=['number_of_reviews', 'number_of_reviews_ltm', 'number_of_reviews_l30d'], inplace=True)"
      ],
      "metadata": {
        "id": "GKw7RoiYlCdW",
        "executionInfo": {
          "status": "ok",
          "timestamp": 1737291146773,
          "user_tz": -60,
          "elapsed": 202,
          "user": {
            "displayName": "Karen White",
            "userId": "15065601901182142883"
          }
        }
      },
      "execution_count": 22,
      "outputs": []
    },
    {
      "cell_type": "markdown",
      "source": [
        "## **Creación de nuevas variables**"
      ],
      "metadata": {
        "id": "_mUdIa5lXX9M"
      }
    },
    {
      "cell_type": "code",
      "source": [
        "# Aplicar la misma fórmula que en train para val\n",
        "fd_val_acorrelacion['price_per_person'] = fd_val_acorrelacion['price'] / fd_val_acorrelacion['accommodates']\n",
        "\n",
        "# Verificar que la nueva variable fue creada correctamente en val\n",
        "print(fd_val_acorrelacion[['price', 'accommodates', 'price_per_person']].head())\n"
      ],
      "metadata": {
        "colab": {
          "base_uri": "https://localhost:8080/"
        },
        "id": "VFFQwoDKXYT2",
        "executionInfo": {
          "status": "ok",
          "timestamp": 1737291155199,
          "user_tz": -60,
          "elapsed": 189,
          "user": {
            "displayName": "Karen White",
            "userId": "15065601901182142883"
          }
        },
        "outputId": "f9081b33-8e0c-4d73-c536-a776129876e4"
      },
      "execution_count": 23,
      "outputs": [
        {
          "output_type": "stream",
          "name": "stdout",
          "text": [
            "      price  accommodates  price_per_person\n",
            "0  4.189655      0.075333         55.614886\n",
            "1  5.758902      0.206000         27.955834\n",
            "2  4.110874      0.010000        411.087386\n",
            "3  6.214608      0.336667         18.459232\n",
            "4  4.709530      0.206000         22.861797\n"
          ]
        }
      ]
    },
    {
      "cell_type": "code",
      "source": [
        "# Aplicar la misma lógica para val\n",
        "price_per_neighborhood_val = fd_val_acorrelacion.groupby('neighbourhood_cleansed')['price'].transform('mean')\n",
        "fd_val_acorrelacion['price_per_neighborhood'] = price_per_neighborhood_val\n",
        "\n",
        "# Verificar que la nueva variable fue creada correctamente en val\n",
        "print(fd_val_acorrelacion[['price', 'neighbourhood_cleansed', 'price_per_neighborhood']].head())\n"
      ],
      "metadata": {
        "colab": {
          "base_uri": "https://localhost:8080/"
        },
        "id": "2eIsZjfAXYWT",
        "executionInfo": {
          "status": "ok",
          "timestamp": 1737291160039,
          "user_tz": -60,
          "elapsed": 217,
          "user": {
            "displayName": "Karen White",
            "userId": "15065601901182142883"
          }
        },
        "outputId": "41ad744a-c931-4a07-a7b1-15306954e5be"
      },
      "execution_count": 24,
      "outputs": [
        {
          "output_type": "stream",
          "name": "stdout",
          "text": [
            "      price  neighbourhood_cleansed  price_per_neighborhood\n",
            "0  4.189655                       7                4.527022\n",
            "1  5.758902                      17                5.301024\n",
            "2  4.110874                      19                4.552039\n",
            "3  6.214608                       4                4.639863\n",
            "4  4.709530                       3                4.839999\n"
          ]
        }
      ]
    },
    {
      "cell_type": "code",
      "source": [
        "# Aplicar la misma lógica para val\n",
        "avg_price_by_property_type_val = fd_val_acorrelacion.groupby('property_type_encoded')['price'].transform('mean')\n",
        "fd_val_acorrelacion['avg_price_by_property_type'] = avg_price_by_property_type_val\n",
        "\n",
        "# Verificar que la nueva variable fue creada correctamente en val\n",
        "print(fd_val_acorrelacion[['price', 'property_type_encoded', 'avg_price_by_property_type']].head())\n"
      ],
      "metadata": {
        "colab": {
          "base_uri": "https://localhost:8080/"
        },
        "id": "400w4QEPXYY7",
        "executionInfo": {
          "status": "ok",
          "timestamp": 1737291163882,
          "user_tz": -60,
          "elapsed": 208,
          "user": {
            "displayName": "Karen White",
            "userId": "15065601901182142883"
          }
        },
        "outputId": "0d29e5b0-932a-4691-a792-9c96b728d904"
      },
      "execution_count": 25,
      "outputs": [
        {
          "output_type": "stream",
          "name": "stdout",
          "text": [
            "      price  property_type_encoded  avg_price_by_property_type\n",
            "0  4.189655                      9                    4.135118\n",
            "1  5.758902                     22                    5.069406\n",
            "2  4.110874                     11                    4.556527\n",
            "3  6.214608                     22                    5.069406\n",
            "4  4.709530                     22                    5.069406\n"
          ]
        }
      ]
    },
    {
      "cell_type": "markdown",
      "source": [
        "# **Guardar el fd_val_acorrelacion**"
      ],
      "metadata": {
        "id": "LgSaRQOPjCs8"
      }
    },
    {
      "cell_type": "code",
      "source": [
        "# Guardar el fd_val_acorrelacion con final de preprocesado y NORMALIZACION en un archivo CSV fd_val_finpreprocesado.\n",
        "fd_val_finpreprocesado.to_csv(\"/content/drive/MyDrive/Deep_Learning_2024/Notebooks/data/fd_val_finpreprocesado.csv\", sep=';', index=False)\n"
      ],
      "metadata": {
        "id": "9Tc8Hl0M-5e_",
        "executionInfo": {
          "status": "ok",
          "timestamp": 1737301726465,
          "user_tz": -60,
          "elapsed": 231,
          "user": {
            "displayName": "Karen White",
            "userId": "15065601901182142883"
          }
        }
      },
      "execution_count": 8,
      "outputs": []
    },
    {
      "cell_type": "code",
      "source": [
        "# Cargar el fd_val_finpreprocesado.csv\n",
        "import pandas as pd\n",
        "fd_val_finpreprocesado = pd.read_csv(\"/content/drive/MyDrive/Deep_Learning_2024/Notebooks/data/fd_val_finpreprocesado.csv\", sep=';')"
      ],
      "metadata": {
        "id": "FjXkdBO8_TiS",
        "executionInfo": {
          "status": "ok",
          "timestamp": 1737301664998,
          "user_tz": -60,
          "elapsed": 1310,
          "user": {
            "displayName": "Karen White",
            "userId": "15065601901182142883"
          }
        }
      },
      "execution_count": 3,
      "outputs": []
    },
    {
      "cell_type": "code",
      "source": [
        "import numpy as np\n",
        "# Aplicar log a las nuevas variables para que tengan la misma escala\n",
        "fd_val_finpreprocesado['price_per_person_log'] = np.log(fd_val_finpreprocesado['price_per_person'])\n",
        "fd_val_finpreprocesado['price_per_neighborhood_log'] = np.log(fd_val_finpreprocesado['price_per_neighborhood'])\n",
        "fd_val_finpreprocesado['avg_price_by_property_type_log'] = np.log(fd_val_finpreprocesado['avg_price_by_property_type'])"
      ],
      "metadata": {
        "id": "b8_UOquUPl6K",
        "executionInfo": {
          "status": "ok",
          "timestamp": 1737301670400,
          "user_tz": -60,
          "elapsed": 221,
          "user": {
            "displayName": "Karen White",
            "userId": "15065601901182142883"
          }
        }
      },
      "execution_count": 4,
      "outputs": []
    },
    {
      "cell_type": "code",
      "source": [
        "# Eliminar las columnas\n",
        "fd_val_finpreprocesado.drop(columns=['price_per_person', 'price_per_neighborhood','avg_price_by_property_type'], inplace=True)"
      ],
      "metadata": {
        "id": "e3qcbAEGPmBM",
        "executionInfo": {
          "status": "ok",
          "timestamp": 1737301697502,
          "user_tz": -60,
          "elapsed": 222,
          "user": {
            "displayName": "Karen White",
            "userId": "15065601901182142883"
          }
        }
      },
      "execution_count": 5,
      "outputs": []
    },
    {
      "cell_type": "code",
      "source": [
        "fd_val_finpreprocesado.shape"
      ],
      "metadata": {
        "colab": {
          "base_uri": "https://localhost:8080/"
        },
        "id": "uG_ZJb1on5a2",
        "executionInfo": {
          "status": "ok",
          "timestamp": 1737301700372,
          "user_tz": -60,
          "elapsed": 216,
          "user": {
            "displayName": "Karen White",
            "userId": "15065601901182142883"
          }
        },
        "outputId": "8cc4c128-92ac-47d4-fc71-9ff63276b212"
      },
      "execution_count": 6,
      "outputs": [
        {
          "output_type": "execute_result",
          "data": {
            "text/plain": [
              "(373, 33)"
            ]
          },
          "metadata": {},
          "execution_count": 6
        }
      ]
    },
    {
      "cell_type": "code",
      "source": [
        "fd_val_finpreprocesado.isnull().sum()"
      ],
      "metadata": {
        "colab": {
          "base_uri": "https://localhost:8080/",
          "height": 1000
        },
        "id": "t28ZiJDAqS6E",
        "executionInfo": {
          "status": "ok",
          "timestamp": 1737301706387,
          "user_tz": -60,
          "elapsed": 184,
          "user": {
            "displayName": "Karen White",
            "userId": "15065601901182142883"
          }
        },
        "outputId": "71666b89-0846-469d-bf0f-ce57329410b1"
      },
      "execution_count": 7,
      "outputs": [
        {
          "output_type": "execute_result",
          "data": {
            "text/plain": [
              "host_response_time                0\n",
              "host_response_rate                0\n",
              "host_acceptance_rate              0\n",
              "host_is_superhost                 0\n",
              "host_total_listings_count         0\n",
              "host_has_profile_pic              0\n",
              "host_identity_verified            0\n",
              "neighbourhood_cleansed            0\n",
              "latitude                          0\n",
              "longitude                         0\n",
              "accommodates                      0\n",
              "bathrooms                         0\n",
              "bedrooms                          0\n",
              "beds                              0\n",
              "price                             0\n",
              "minimum_nights                    0\n",
              "maximum_nights                    0\n",
              "availability_365                  0\n",
              "review_scores_cleanliness         0\n",
              "review_scores_checkin             0\n",
              "review_scores_communication       0\n",
              "review_scores_location            0\n",
              "instant_bookable                  0\n",
              "reviews_per_month                 0\n",
              "bathrooms_shared                  0\n",
              "years_being_host                  0\n",
              "num_host_verifications            0\n",
              "property_type_encoded             0\n",
              "room_type_encoded                 0\n",
              "review_overall_score              0\n",
              "price_per_person_log              0\n",
              "price_per_neighborhood_log        0\n",
              "avg_price_by_property_type_log    0\n",
              "dtype: int64"
            ],
            "text/html": [
              "<div>\n",
              "<style scoped>\n",
              "    .dataframe tbody tr th:only-of-type {\n",
              "        vertical-align: middle;\n",
              "    }\n",
              "\n",
              "    .dataframe tbody tr th {\n",
              "        vertical-align: top;\n",
              "    }\n",
              "\n",
              "    .dataframe thead th {\n",
              "        text-align: right;\n",
              "    }\n",
              "</style>\n",
              "<table border=\"1\" class=\"dataframe\">\n",
              "  <thead>\n",
              "    <tr style=\"text-align: right;\">\n",
              "      <th></th>\n",
              "      <th>0</th>\n",
              "    </tr>\n",
              "  </thead>\n",
              "  <tbody>\n",
              "    <tr>\n",
              "      <th>host_response_time</th>\n",
              "      <td>0</td>\n",
              "    </tr>\n",
              "    <tr>\n",
              "      <th>host_response_rate</th>\n",
              "      <td>0</td>\n",
              "    </tr>\n",
              "    <tr>\n",
              "      <th>host_acceptance_rate</th>\n",
              "      <td>0</td>\n",
              "    </tr>\n",
              "    <tr>\n",
              "      <th>host_is_superhost</th>\n",
              "      <td>0</td>\n",
              "    </tr>\n",
              "    <tr>\n",
              "      <th>host_total_listings_count</th>\n",
              "      <td>0</td>\n",
              "    </tr>\n",
              "    <tr>\n",
              "      <th>host_has_profile_pic</th>\n",
              "      <td>0</td>\n",
              "    </tr>\n",
              "    <tr>\n",
              "      <th>host_identity_verified</th>\n",
              "      <td>0</td>\n",
              "    </tr>\n",
              "    <tr>\n",
              "      <th>neighbourhood_cleansed</th>\n",
              "      <td>0</td>\n",
              "    </tr>\n",
              "    <tr>\n",
              "      <th>latitude</th>\n",
              "      <td>0</td>\n",
              "    </tr>\n",
              "    <tr>\n",
              "      <th>longitude</th>\n",
              "      <td>0</td>\n",
              "    </tr>\n",
              "    <tr>\n",
              "      <th>accommodates</th>\n",
              "      <td>0</td>\n",
              "    </tr>\n",
              "    <tr>\n",
              "      <th>bathrooms</th>\n",
              "      <td>0</td>\n",
              "    </tr>\n",
              "    <tr>\n",
              "      <th>bedrooms</th>\n",
              "      <td>0</td>\n",
              "    </tr>\n",
              "    <tr>\n",
              "      <th>beds</th>\n",
              "      <td>0</td>\n",
              "    </tr>\n",
              "    <tr>\n",
              "      <th>price</th>\n",
              "      <td>0</td>\n",
              "    </tr>\n",
              "    <tr>\n",
              "      <th>minimum_nights</th>\n",
              "      <td>0</td>\n",
              "    </tr>\n",
              "    <tr>\n",
              "      <th>maximum_nights</th>\n",
              "      <td>0</td>\n",
              "    </tr>\n",
              "    <tr>\n",
              "      <th>availability_365</th>\n",
              "      <td>0</td>\n",
              "    </tr>\n",
              "    <tr>\n",
              "      <th>review_scores_cleanliness</th>\n",
              "      <td>0</td>\n",
              "    </tr>\n",
              "    <tr>\n",
              "      <th>review_scores_checkin</th>\n",
              "      <td>0</td>\n",
              "    </tr>\n",
              "    <tr>\n",
              "      <th>review_scores_communication</th>\n",
              "      <td>0</td>\n",
              "    </tr>\n",
              "    <tr>\n",
              "      <th>review_scores_location</th>\n",
              "      <td>0</td>\n",
              "    </tr>\n",
              "    <tr>\n",
              "      <th>instant_bookable</th>\n",
              "      <td>0</td>\n",
              "    </tr>\n",
              "    <tr>\n",
              "      <th>reviews_per_month</th>\n",
              "      <td>0</td>\n",
              "    </tr>\n",
              "    <tr>\n",
              "      <th>bathrooms_shared</th>\n",
              "      <td>0</td>\n",
              "    </tr>\n",
              "    <tr>\n",
              "      <th>years_being_host</th>\n",
              "      <td>0</td>\n",
              "    </tr>\n",
              "    <tr>\n",
              "      <th>num_host_verifications</th>\n",
              "      <td>0</td>\n",
              "    </tr>\n",
              "    <tr>\n",
              "      <th>property_type_encoded</th>\n",
              "      <td>0</td>\n",
              "    </tr>\n",
              "    <tr>\n",
              "      <th>room_type_encoded</th>\n",
              "      <td>0</td>\n",
              "    </tr>\n",
              "    <tr>\n",
              "      <th>review_overall_score</th>\n",
              "      <td>0</td>\n",
              "    </tr>\n",
              "    <tr>\n",
              "      <th>price_per_person_log</th>\n",
              "      <td>0</td>\n",
              "    </tr>\n",
              "    <tr>\n",
              "      <th>price_per_neighborhood_log</th>\n",
              "      <td>0</td>\n",
              "    </tr>\n",
              "    <tr>\n",
              "      <th>avg_price_by_property_type_log</th>\n",
              "      <td>0</td>\n",
              "    </tr>\n",
              "  </tbody>\n",
              "</table>\n",
              "</div><br><label><b>dtype:</b> int64</label>"
            ]
          },
          "metadata": {},
          "execution_count": 7
        }
      ]
    }
  ]
}
