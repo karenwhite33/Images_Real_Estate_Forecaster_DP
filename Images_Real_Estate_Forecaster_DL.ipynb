{
  "nbformat": 4,
  "nbformat_minor": 0,
  "metadata": {
    "colab": {
      "provenance": [],
      "authorship_tag": "ABX9TyPC1xXFZYIxqzOGTMJNwGFw",
      "include_colab_link": true
    },
    "kernelspec": {
      "name": "python3",
      "display_name": "Python 3"
    },
    "language_info": {
      "name": "python"
    }
  },
  "cells": [
    {
      "cell_type": "markdown",
      "metadata": {
        "id": "view-in-github",
        "colab_type": "text"
      },
      "source": [
        "<a href=\"https://colab.research.google.com/github/karenwhite33/Images_Real_Estate_Forecaster_DP/blob/main/Images_Real_Estate_Forecaster_DL.ipynb\" target=\"_parent\"><img src=\"https://colab.research.google.com/assets/colab-badge.svg\" alt=\"Open In Colab\"/></a>"
      ]
    },
    {
      "cell_type": "code",
      "source": [
        "import cv2\n",
        "import numpy\n",
        "import pandas\n",
        "import imageio.v3 as io\n",
        "\n",
        "from tqdm import tqdm\n",
        "from typing import Optional, Union"
      ],
      "metadata": {
        "id": "HkY5ghQAoCzs"
      },
      "execution_count": null,
      "outputs": []
    },
    {
      "cell_type": "code",
      "execution_count": null,
      "metadata": {
        "id": "AfZNk_y6TI91"
      },
      "outputs": [],
      "source": [
        "#descarganos el dataset de url\n",
        "\n",
        "!wget -0"
      ]
    },
    {
      "cell_type": "code",
      "source": [],
      "metadata": {
        "id": "qD36mbJgmH0l"
      },
      "execution_count": null,
      "outputs": []
    },
    {
      "cell_type": "code",
      "source": [],
      "metadata": {
        "id": "IijVvqClmH3C"
      },
      "execution_count": null,
      "outputs": []
    }
  ]
}